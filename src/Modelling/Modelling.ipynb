{
 "cells": [
  {
   "cell_type": "code",
   "execution_count": 60,
   "metadata": {},
   "outputs": [],
   "source": [
    "import pandas as pd\n",
    "from sklearn.model_selection import GridSearchCV\n",
    "from sklearn.linear_model import LogisticRegression\n",
    "from sklearn.model_selection import train_test_split\n",
    "from sklearn.metrics import classification_report\n",
    "from sklearn.metrics import confusion_matrix\n",
    "import xgboost as xgb\n",
    "# check version number\n",
    "from imblearn.over_sampling import RandomOverSampler\n",
    "from imblearn.under_sampling import NearMiss\n",
    "from sklearn.cluster import KMeans\n",
    "import numpy as np\n",
    "from sklearn.decomposition import PCA\n",
    "from sklearn.preprocessing import StandardScaler\n",
    "from sklearn import svm\n",
    "from sklearn.ensemble import RandomForestClassifier\n",
    "from xgboost import XGBClassifier"
   ]
  },
  {
   "cell_type": "code",
   "execution_count": 2,
   "metadata": {},
   "outputs": [],
   "source": [
    "import matplotlib.pyplot as plt"
   ]
  },
  {
   "cell_type": "markdown",
   "metadata": {},
   "source": [
    "### Data Sources"
   ]
  },
  {
   "cell_type": "code",
   "execution_count": 5,
   "metadata": {},
   "outputs": [],
   "source": [
    "app_train = pd.read_csv('../../Data/Processed/app_train_processed.csv')\n",
    "app_test = pd.read_csv('../../Data/Processed/app_test_processed.csv')\n",
    "bureau = pd.read_csv('../../Data/Processed/bureau_data.csv')\n",
    "installments = pd.read_csv('../../Data/Processed/installments.csv')\n",
    "app_test.drop(columns = 'Unnamed: 0', inplace = True)\n",
    "app_train.drop(columns = 'Unnamed: 0', inplace = True)\n",
    "installments.drop(columns = 'Unnamed: 0', inplace = True)"
   ]
  },
  {
   "cell_type": "code",
   "execution_count": 6,
   "metadata": {},
   "outputs": [],
   "source": [
    "app_train.EXT_SOURCE_1.fillna(app_train.EXT_SOURCE_1.median(), inplace = True)\n",
    "app_test.EXT_SOURCE_1.fillna(app_train.EXT_SOURCE_1.median(), inplace = True)\n",
    "data = app_train.merge(bureau, on = 'SK_ID_CURR', how = 'left')\n",
    "data = data.merge(installments, on = 'SK_ID_CURR', how = 'left')\n",
    "data.fillna(0, inplace = True)\n",
    "data_test = app_test.merge(bureau, on = 'SK_ID_CURR', how = 'left')\n",
    "data_test = data_test.merge(installments, on = 'SK_ID_CURR', how = 'left')\n",
    "data_test.fillna(0, inplace = True)\n",
    "data.drop(columns = [ 'SK_ID_CURR'], inplace = True)\n",
    "data_test.drop(columns = ['SK_ID_CURR'], inplace = True)"
   ]
  },
  {
   "cell_type": "markdown",
   "metadata": {},
   "source": [
    "### Train Test Split"
   ]
  },
  {
   "cell_type": "code",
   "execution_count": 7,
   "metadata": {},
   "outputs": [],
   "source": [
    "y = data['TARGET']\n",
    "col = list(data.columns)\n",
    "col.remove('TARGET')\n",
    "X = data[col]"
   ]
  },
  {
   "cell_type": "code",
   "execution_count": 8,
   "metadata": {},
   "outputs": [],
   "source": [
    "X_train, X_test, y_train, y_test = train_test_split(X, y, test_size=0.20, random_state=42, stratify = y)"
   ]
  },
  {
   "cell_type": "code",
   "execution_count": 9,
   "metadata": {},
   "outputs": [
    {
     "data": {
      "text/plain": [
       "Index(['NAME_CONTRACT_TYPE', 'FLAG_OWN_CAR', 'FLAG_OWN_REALTY', 'CNT_CHILDREN',\n",
       "       'AMT_INCOME_TOTAL', 'AMT_CREDIT', 'AMT_ANNUITY', 'AMT_GOODS_PRICE',\n",
       "       'REGION_POPULATION_RELATIVE', 'DAYS_REGISTRATION',\n",
       "       ...\n",
       "       'Other', 'DPD', 'MAX_Over_due', 'Current_balance', 'Current_debt',\n",
       "       'current_overdue', 'AMT_BALANCE', 'AMT_CREDIT_LIMIT_ACTUAL',\n",
       "       'AMT_PAYMENT_CURRENT', 'AMT_TOTAL_RECEIVABLE'],\n",
       "      dtype='object', length=109)"
      ]
     },
     "execution_count": 9,
     "metadata": {},
     "output_type": "execute_result"
    }
   ],
   "source": [
    "X_train.columns"
   ]
  },
  {
   "cell_type": "code",
   "execution_count": 10,
   "metadata": {},
   "outputs": [],
   "source": [
    "corr_matrix = X_train.corr().abs()\n",
    "\n",
    "#the matrix is symmetric so we need to extract upper triangle matrix without diagonal (k = 1)\n",
    "\n",
    "sol = (corr_matrix.where(np.triu(np.ones(corr_matrix.shape), k=1).astype(np.bool))\n",
    "                  .stack()\n",
    "                  .sort_values(ascending=False))\n"
   ]
  },
  {
   "cell_type": "code",
   "execution_count": 11,
   "metadata": {},
   "outputs": [
    {
     "name": "stderr",
     "output_type": "stream",
     "text": [
      "C:\\Users\\siyer\\anaconda3\\lib\\site-packages\\pandas\\core\\frame.py:4163: SettingWithCopyWarning: \n",
      "A value is trying to be set on a copy of a slice from a DataFrame\n",
      "\n",
      "See the caveats in the documentation: https://pandas.pydata.org/pandas-docs/stable/user_guide/indexing.html#returning-a-view-versus-a-copy\n",
      "  return super().drop(\n"
     ]
    }
   ],
   "source": [
    "drop_cols = [ 'CODE_GENDER_F', 'AMT_TOTAL_RECEIVABLE', 'Government', 'OBS_30_CNT_SOCIAL_CIRCLE',\n",
    "            'AMT_GOODS_PRICE', 'NAME_TYPE_SUITE_Unaccompanied', 'REGION_RATING_CLIENT_W_CITY', 'Number_of_closed_loans',\n",
    "            'NAME_EDUCATION_TYPE_Secondary / secondary special', 'CNT_CHILDREN', 'DEF_60_CNT_SOCIAL_CIRCLE', 'LIVE_REGION_NOT_WORK_REGION',\n",
    "            'AMT_ANNUITY', 'AMT_CREDIT_LIMIT_ACTUAL', 'NAME_HOUSING_TYPE_With parents', 'ORGANIZATION_TYPE_XNA', \n",
    "             'REGION_RATING_CLIENT_W_CITY' ]\n",
    "\n",
    "X_train.drop(columns = drop_cols, inplace = True)\n",
    "X_test.drop(columns = drop_cols, inplace = True)"
   ]
  },
  {
   "cell_type": "code",
   "execution_count": 12,
   "metadata": {},
   "outputs": [
    {
     "name": "stdout",
     "output_type": "stream",
     "text": [
      "<class 'pandas.core.frame.DataFrame'>\n",
      "Int64Index: 246008 entries, 181648 to 285162\n",
      "Data columns (total 93 columns):\n",
      " #   Column                                 Non-Null Count   Dtype  \n",
      "---  ------                                 --------------   -----  \n",
      " 0   NAME_CONTRACT_TYPE                     246008 non-null  int64  \n",
      " 1   FLAG_OWN_CAR                           246008 non-null  int64  \n",
      " 2   FLAG_OWN_REALTY                        246008 non-null  int64  \n",
      " 3   AMT_INCOME_TOTAL                       246008 non-null  float64\n",
      " 4   AMT_CREDIT                             246008 non-null  float64\n",
      " 5   REGION_POPULATION_RELATIVE             246008 non-null  float64\n",
      " 6   DAYS_REGISTRATION                      246008 non-null  float64\n",
      " 7   DAYS_ID_PUBLISH                        246008 non-null  int64  \n",
      " 8   FLAG_EMP_PHONE                         246008 non-null  int64  \n",
      " 9   FLAG_CONT_MOBILE                       246008 non-null  int64  \n",
      " 10  FLAG_EMAIL                             246008 non-null  int64  \n",
      " 11  CNT_FAM_MEMBERS                        246008 non-null  float64\n",
      " 12  REGION_RATING_CLIENT                   246008 non-null  int64  \n",
      " 13  HOUR_APPR_PROCESS_START                246008 non-null  int64  \n",
      " 14  REG_REGION_NOT_LIVE_REGION             246008 non-null  int64  \n",
      " 15  REG_REGION_NOT_WORK_REGION             246008 non-null  int64  \n",
      " 16  REG_CITY_NOT_LIVE_CITY                 246008 non-null  int64  \n",
      " 17  REG_CITY_NOT_WORK_CITY                 246008 non-null  int64  \n",
      " 18  LIVE_CITY_NOT_WORK_CITY                246008 non-null  int64  \n",
      " 19  EXT_SOURCE_1                           246008 non-null  float64\n",
      " 20  EXT_SOURCE_2                           246008 non-null  float64\n",
      " 21  EXT_SOURCE_3                           246008 non-null  float64\n",
      " 22  DEF_30_CNT_SOCIAL_CIRCLE               246008 non-null  float64\n",
      " 23  OBS_60_CNT_SOCIAL_CIRCLE               246008 non-null  float64\n",
      " 24  DAYS_LAST_PHONE_CHANGE                 246008 non-null  float64\n",
      " 25  FLAG_DOCUMENT_3                        246008 non-null  int64  \n",
      " 26  FLAG_DOCUMENT_6                        246008 non-null  int64  \n",
      " 27  AMT_REQ_CREDIT_BUREAU_HOUR             246008 non-null  float64\n",
      " 28  AMT_REQ_CREDIT_BUREAU_MON              246008 non-null  float64\n",
      " 29  AMT_REQ_CREDIT_BUREAU_QRT              246008 non-null  float64\n",
      " 30  CODE_GENDER_M                          246008 non-null  int64  \n",
      " 31  NAME_INCOME_TYPE_Businessman           246008 non-null  int64  \n",
      " 32  NAME_INCOME_TYPE_Student               246008 non-null  int64  \n",
      " 33  NAME_INCOME_TYPE_Unemployed            246008 non-null  int64  \n",
      " 34  NAME_EDUCATION_TYPE_Academic degree    246008 non-null  int64  \n",
      " 35  NAME_EDUCATION_TYPE_Higher education   246008 non-null  int64  \n",
      " 36  NAME_EDUCATION_TYPE_Incomplete higher  246008 non-null  int64  \n",
      " 37  NAME_EDUCATION_TYPE_Lower secondary    246008 non-null  int64  \n",
      " 38  NAME_HOUSING_TYPE_Co-op apartment      246008 non-null  int64  \n",
      " 39  NAME_HOUSING_TYPE_House / apartment    246008 non-null  int64  \n",
      " 40  NAME_HOUSING_TYPE_Municipal apartment  246008 non-null  int64  \n",
      " 41  NAME_HOUSING_TYPE_Office apartment     246008 non-null  int64  \n",
      " 42  NAME_HOUSING_TYPE_Rented apartment     246008 non-null  int64  \n",
      " 43  ORGANIZATION_TYPE_Advertising          246008 non-null  int64  \n",
      " 44  ORGANIZATION_TYPE_Agriculture          246008 non-null  int64  \n",
      " 45  ORGANIZATION_TYPE_Bank                 246008 non-null  int64  \n",
      " 46  ORGANIZATION_TYPE_Construction         246008 non-null  int64  \n",
      " 47  ORGANIZATION_TYPE_Culture              246008 non-null  int64  \n",
      " 48  ORGANIZATION_TYPE_Insurance            246008 non-null  int64  \n",
      " 49  ORGANIZATION_TYPE_Legal Services       246008 non-null  int64  \n",
      " 50  ORGANIZATION_TYPE_Medicine             246008 non-null  int64  \n",
      " 51  ORGANIZATION_TYPE_Mobile               246008 non-null  int64  \n",
      " 52  ORGANIZATION_TYPE_Other                246008 non-null  int64  \n",
      " 53  ORGANIZATION_TYPE_Police               246008 non-null  int64  \n",
      " 54  ORGANIZATION_TYPE_Realtor              246008 non-null  int64  \n",
      " 55  ORGANIZATION_TYPE_Religion             246008 non-null  int64  \n",
      " 56  ORGANIZATION_TYPE_Restaurant           246008 non-null  int64  \n",
      " 57  ORGANIZATION_TYPE_Self-employed        246008 non-null  int64  \n",
      " 58  ORGANIZATION_TYPE_Services             246008 non-null  int64  \n",
      " 59  ORGANIZATION_TYPE_Telecom              246008 non-null  int64  \n",
      " 60  ORGANIZATION_TYPE_University           246008 non-null  int64  \n",
      " 61  AGE                                    246008 non-null  float64\n",
      " 62  Years_experience                       246008 non-null  float64\n",
      " 63  transport                              246008 non-null  int64  \n",
      " 64  trade                                  246008 non-null  int64  \n",
      " 65  industry                               246008 non-null  int64  \n",
      " 66  Businesss                              246008 non-null  int64  \n",
      " 67  white_collar                           246008 non-null  int64  \n",
      " 68  services                               246008 non-null  int64  \n",
      " 69  occ_low_level                          246008 non-null  int64  \n",
      " 70  occ_medium_level                       246008 non-null  int64  \n",
      " 71  occ_high_leve                          246008 non-null  int64  \n",
      " 72  occ_missing                            246008 non-null  int64  \n",
      " 73  accompanied                            246008 non-null  int64  \n",
      " 74  Working                                246008 non-null  int64  \n",
      " 75  Married                                246008 non-null  int64  \n",
      " 76  Number_of_total_loans                  246008 non-null  float64\n",
      " 77  Number_of_active_loans                 246008 non-null  float64\n",
      " 78  Number_of_sold_loans                   246008 non-null  float64\n",
      " 79  Number_of_bad_loans                    246008 non-null  float64\n",
      " 80  Car_loans                              246008 non-null  float64\n",
      " 81  Consumer_credit                        246008 non-null  float64\n",
      " 82  Credit_card                            246008 non-null  float64\n",
      " 83  Micro_loan                             246008 non-null  float64\n",
      " 84  Mortgage                               246008 non-null  float64\n",
      " 85  Other                                  246008 non-null  float64\n",
      " 86  DPD                                    246008 non-null  float64\n",
      " 87  MAX_Over_due                           246008 non-null  float64\n",
      " 88  Current_balance                        246008 non-null  float64\n",
      " 89  Current_debt                           246008 non-null  float64\n",
      " 90  current_overdue                        246008 non-null  float64\n",
      " 91  AMT_BALANCE                            246008 non-null  float64\n",
      " 92  AMT_PAYMENT_CURRENT                    246008 non-null  float64\n",
      "dtypes: float64(33), int64(60)\n",
      "memory usage: 176.4 MB\n"
     ]
    }
   ],
   "source": [
    "X_train.info()"
   ]
  },
  {
   "cell_type": "code",
   "execution_count": null,
   "metadata": {},
   "outputs": [],
   "source": [
    "def run_xgb_cv(X, y):\n",
    "    clf = xgb.XGBClassifier()\n",
    "    \n",
    "    params = {'max_depth' : (4, 8, 12) , 'n_estimators' :  (400, 600, 800), 'gamma' : [2], 'subsample': [0.7], 'scale_pos_weight': [10], 'alpha' : [1], 'lambda': [0]}\n",
    "    cv = GridSearchCV(clf, params, cv = 5)\n",
    "    cv.fit(X, y)\n",
    "    return cv"
   ]
  },
  {
   "cell_type": "code",
   "execution_count": null,
   "metadata": {},
   "outputs": [],
   "source": [
    "def run_xgb(X, y, params):\n",
    "    clf = xgb.XGBClassifier(**params)\n",
    "    clf.fit(X, y)\n",
    "    return clf"
   ]
  },
  {
   "cell_type": "code",
   "execution_count": null,
   "metadata": {},
   "outputs": [],
   "source": [
    "cv = run_xgb_cv(X_train, y_train)"
   ]
  },
  {
   "cell_type": "code",
   "execution_count": null,
   "metadata": {},
   "outputs": [],
   "source": [
    "cv.best_params_"
   ]
  },
  {
   "cell_type": "code",
   "execution_count": null,
   "metadata": {},
   "outputs": [],
   "source": [
    "params = cv.best_params_"
   ]
  },
  {
   "cell_type": "code",
   "execution_count": null,
   "metadata": {},
   "outputs": [],
   "source": [
    "params = {'alpha': 1, 'gamma': 2, 'lambda': 0, 'max_depth': 6, 'n_estimators': 700, 'scale_pos_weight': 10, 'subsample': 0.7}\n",
    "model = run_xgb(X_train, y_train, params)"
   ]
  },
  {
   "cell_type": "code",
   "execution_count": null,
   "metadata": {},
   "outputs": [],
   "source": [
    "y_pred = model.predict(X_test)"
   ]
  },
  {
   "cell_type": "code",
   "execution_count": null,
   "metadata": {},
   "outputs": [],
   "source": [
    "confusion_matrix(y_test, y_pred)"
   ]
  },
  {
   "cell_type": "code",
   "execution_count": null,
   "metadata": {},
   "outputs": [],
   "source": [
    "y_pred = model.predict(X_train)"
   ]
  },
  {
   "cell_type": "code",
   "execution_count": null,
   "metadata": {},
   "outputs": [],
   "source": [
    "\n",
    "confusion_matrix(y_train, y_pred)"
   ]
  },
  {
   "cell_type": "code",
   "execution_count": null,
   "metadata": {},
   "outputs": [],
   "source": [
    "print(classification_report(y_train, y_pred))"
   ]
  },
  {
   "cell_type": "code",
   "execution_count": null,
   "metadata": {},
   "outputs": [],
   "source": [
    "print(classification_report(y_test, y_pred))"
   ]
  },
  {
   "cell_type": "code",
   "execution_count": null,
   "metadata": {},
   "outputs": [],
   "source": [
    "importance = list(X_train.columns).append(model.feature_importances_)"
   ]
  },
  {
   "cell_type": "code",
   "execution_count": null,
   "metadata": {},
   "outputs": [],
   "source": [
    "list(model.feature_importances_).append(list(X_train.columns))"
   ]
  },
  {
   "cell_type": "code",
   "execution_count": null,
   "metadata": {},
   "outputs": [],
   "source": [
    "l = list(model.feature_importances_)"
   ]
  },
  {
   "cell_type": "code",
   "execution_count": null,
   "metadata": {},
   "outputs": [],
   "source": [
    "c = list(X_train.columns)"
   ]
  },
  {
   "cell_type": "code",
   "execution_count": null,
   "metadata": {},
   "outputs": [],
   "source": [
    "out = []\n",
    "for i,j in zip(l, c):\n",
    "    out.append([j, i])\n",
    "    "
   ]
  },
  {
   "cell_type": "code",
   "execution_count": null,
   "metadata": {},
   "outputs": [],
   "source": [
    "for i in sorted(out,key = lambda x: x[1], reverse = True):\n",
    "    print(i)"
   ]
  },
  {
   "cell_type": "code",
   "execution_count": null,
   "metadata": {},
   "outputs": [],
   "source": [
    "\n",
    "plt.bar(X_train.columns, model.feature_importances_)\n",
    "plt.show()"
   ]
  },
  {
   "cell_type": "code",
   "execution_count": null,
   "metadata": {},
   "outputs": [],
   "source": [
    "corr_matrix = X_train.corr().abs()\n",
    "\n",
    "#the matrix is symmetric so we need to extract upper triangle matrix without diagonal (k = 1)\n",
    "\n",
    "sol = (corr_matrix.where(np.triu(np.ones(corr_matrix.shape), k=1).astype(np.bool))\n",
    "                  .stack()\n",
    "                  .sort_values(ascending=False))\n"
   ]
  },
  {
   "cell_type": "code",
   "execution_count": null,
   "metadata": {},
   "outputs": [],
   "source": [
    "sol[30:40]"
   ]
  },
  {
   "cell_type": "code",
   "execution_count": null,
   "metadata": {},
   "outputs": [],
   "source": [
    "drop_cols = ['Unnamed: 0_x', 'SK_ID_CURR', 'CODE_GENDER_F', 'AMT_TOTAL_RECEIVABLE', 'Government', 'OBS_30_CNT_SOCIAL_CIRCLE',\n",
    "            'AMT_GOODS_PRICE', 'NAME_TYPE_SUITE_Unaccompanied', 'REGION_RATING_CLIENT_W_CITY', 'Number_of_closed_loans',\n",
    "            'NAME_EDUCATION_TYPE_Secondary / secondary special', 'CNT_CHILDREN', 'DEF_60_CNT_SOCIAL_CIRCLE', 'LIVE_REGION_NOT_WORK_REGION',\n",
    "            'AMT_ANNUITY', 'AMT_CREDIT_LIMIT_ACTUAL', 'NAME_HOUSING_TYPE_With parents', 'ORGANIZATION_TYPE_XNA', 'Unnamed: 0_y', \n",
    "             'REGION_RATING_CLIENT_W_CITY' ]"
   ]
  },
  {
   "cell_type": "code",
   "execution_count": null,
   "metadata": {},
   "outputs": [],
   "source": [
    "X_train.drop(columns = drop_cols, inplace = True)"
   ]
  },
  {
   "cell_type": "code",
   "execution_count": null,
   "metadata": {},
   "outputs": [],
   "source": [
    "data_test.drop(columns = drop_cols, inplace =True )"
   ]
  },
  {
   "cell_type": "code",
   "execution_count": null,
   "metadata": {},
   "outputs": [],
   "source": [
    "X_test.drop(columns = drop_cols, inplace = True)"
   ]
  },
  {
   "cell_type": "code",
   "execution_count": null,
   "metadata": {},
   "outputs": [],
   "source": [
    "pca = PCA(n)\n",
    "pca.fit(X_train)"
   ]
  },
  {
   "cell_type": "code",
   "execution_count": null,
   "metadata": {},
   "outputs": [],
   "source": [
    "pca.explained_variance_ratio_"
   ]
  },
  {
   "cell_type": "code",
   "execution_count": null,
   "metadata": {},
   "outputs": [],
   "source": [
    "def get_scores(X_train, y_train, X_test, y_test, model):\n",
    "    ypred = model.predict(X_train)\n",
    "    print(classification_report(y_train, ypred))\n",
    "    ypred = model.predict(X_test)\n",
    "    print(classification_report(y_test, ypred))\n",
    "    "
   ]
  },
  {
   "cell_type": "code",
   "execution_count": null,
   "metadata": {},
   "outputs": [],
   "source": [
    "pca_train = pca.transform(X_train)\n",
    "pca_test = pca.transform(X_test)"
   ]
  },
  {
   "cell_type": "code",
   "execution_count": null,
   "metadata": {},
   "outputs": [],
   "source": [
    "params = {'alpha': 1, 'gamma': 2, 'lambda': 0, 'max_depth': 6, 'n_estimators': 700, 'scale_pos_weight': 10, 'subsample': 0.7}\n",
    "\n",
    "\n"
   ]
  },
  {
   "cell_type": "code",
   "execution_count": null,
   "metadata": {},
   "outputs": [],
   "source": [
    "\n",
    "model = run_xgb(pca_train[:,:6], y_train, params)\n",
    "get_scores(pca_train[:,:6], y_train, pca_test[:,:6], y_test, model)"
   ]
  },
  {
   "cell_type": "code",
   "execution_count": null,
   "metadata": {},
   "outputs": [],
   "source": [
    "\n",
    "model = run_xgb(pca_train[:,:15], y_train, params)\n",
    "get_scores(pca_train[:,:15], y_train, pca_test[:,:15], y_test, model)"
   ]
  },
  {
   "cell_type": "code",
   "execution_count": null,
   "metadata": {},
   "outputs": [],
   "source": [
    "\n",
    "model = run_xgb(pca_train[:,:25], y_train, params)\n",
    "get_scores(pca_train[:,:25], y_train, pca_test[:,:25], y_test, model)"
   ]
  },
  {
   "cell_type": "code",
   "execution_count": null,
   "metadata": {},
   "outputs": [],
   "source": [
    "get_scores(pca_train[:,:25], y_train, pca_test[:,:25], y_test, model)"
   ]
  },
  {
   "cell_type": "code",
   "execution_count": null,
   "metadata": {},
   "outputs": [],
   "source": [
    "X_train.columns\n"
   ]
  },
  {
   "cell_type": "code",
   "execution_count": null,
   "metadata": {},
   "outputs": [],
   "source": [
    "cat = ['CODE_GENDER_M','NAME_INCOME_TYPE_Businessman','NAME_INCOME_TYPE_Student','NAME_INCOME_TYPE_Unemployed','NAME_EDUCATION_TYPE_Academic degree','NAME_EDUCATION_TYPE_Higher education','NAME_EDUCATION_TYPE_Incomplete higher','NAME_EDUCATION_TYPE_Lower secondary','NAME_HOUSING_TYPE_Co-op apartment','NAME_HOUSING_TYPE_House / apartment','NAME_HOUSING_TYPE_Municipal apartment','NAME_HOUSING_TYPE_Office apartment','NAME_HOUSING_TYPE_Rented apartment','ORGANIZATION_TYPE_Advertising','ORGANIZATION_TYPE_Agriculture','ORGANIZATION_TYPE_Bank','ORGANIZATION_TYPE_Construction','ORGANIZATION_TYPE_Culture','ORGANIZATION_TYPE_Insurance','ORGANIZATION_TYPE_Legal Services','ORGANIZATION_TYPE_Medicine','ORGANIZATION_TYPE_Mobile','ORGANIZATION_TYPE_Other','ORGANIZATION_TYPE_Police','ORGANIZATION_TYPE_Realtor','ORGANIZATION_TYPE_Religion','ORGANIZATION_TYPE_Restaurant','ORGANIZATION_TYPE_Self-employed','ORGANIZATION_TYPE_Services','ORGANIZATION_TYPE_Telecom','ORGANIZATION_TYPE_University','transport','trade','industry','Businesss','white_collar','services','occ_low_level','occ_medium_level','occ_high_leve','occ_missing','accompanied','Working ','Married','Consumer_credit','Credit_card','Micro_loan','Mortgage','Other','FLAG_EMP_PHONE','FLAG_CONT_MOBILE','FLAG_EMAIL','FLAG_DOCUMENT_3','FLAG_DOCUMENT_6']\n",
    "cont = ['NAME_CONTRACT_TYPE','FLAG_OWN_CAR','FLAG_OWN_REALTY','AMT_INCOME_TOTAL','AMT_CREDIT','REGION_POPULATION_RELATIVE','DAYS_REGISTRATION','DAYS_ID_PUBLISH','CNT_FAM_MEMBERS','REGION_RATING_CLIENT','HOUR_APPR_PROCESS_START','REG_REGION_NOT_LIVE_REGION','REG_REGION_NOT_WORK_REGION','REG_CITY_NOT_LIVE_CITY','REG_CITY_NOT_WORK_CITY','LIVE_CITY_NOT_WORK_CITY','EXT_SOURCE_1','EXT_SOURCE_2','EXT_SOURCE_3','DEF_30_CNT_SOCIAL_CIRCLE','OBS_60_CNT_SOCIAL_CIRCLE','DAYS_LAST_PHONE_CHANGE','AMT_REQ_CREDIT_BUREAU_HOUR','AMT_REQ_CREDIT_BUREAU_MON','AMT_REQ_CREDIT_BUREAU_QRT','AGE','Years_experience','Number_of_total_loans','Number_of_active_loans','Number_of_sold_loans','Number_of_bad_loans','Car_loans','DPD','MAX_Over_due','Current_balance','Current_debt','current_overdue','AMT_BALANCE','AMT_PAYMENT_CURRENT']       "
   ]
  },
  {
   "cell_type": "code",
   "execution_count": null,
   "metadata": {},
   "outputs": [],
   "source": [
    "X_train_part1 = X_train[cont]\n",
    "X_test_part1 = X_test[cont]\n",
    "X_train_part2 = X_train[cat]\n",
    "X_test_part2 = X_test[cat]\n",
    "pca.fit(X_train_part1)\n",
    "pca_train_part1 = pd.DataFrame(pca.transform(X_train_part1)[:,0:5])\n",
    "pca_test_part1 = pd.DataFrame(pca.transform(X_test_part1)[:,0:5])\n",
    "X_train_part2.reset_index(inplace = True)\n",
    "X_test_part2.reset_index(inplace = True)\n",
    "X_train_part2.drop(columns = 'index', inplace = True)\n",
    "X_test_part2.drop(columns = 'index', inplace = True)\n",
    "train = pd.concat([pca_train_part1, X_train_part2], axis = 1)\n",
    "test = pd.concat([pca_test_part1, X_test_part2], axis = 1)\n",
    "model = run_xgb(train, y_train, params)\n",
    "get_scores(train, y_train, test, y_test, model)"
   ]
  },
  {
   "cell_type": "code",
   "execution_count": null,
   "metadata": {},
   "outputs": [],
   "source": [
    "def score(num):\n",
    "    X_train_part1 = X_train[cont]\n",
    "    X_test_part1 = X_test[cont]\n",
    "    X_train_part2 = X_train[cat]\n",
    "    X_test_part2 = X_test[cat]\n",
    "    \n",
    "    pca.fit(X_train_part1)\n",
    "    pca_train_part1 = pd.DataFrame(pca.transform(X_train_part1)[:,0:num])\n",
    "    pca_test_part1 = pd.DataFrame(pca.transform(X_test_part1)[:,0:num])\n",
    "    pca_data_part1 = pd.DataFrame(pca.transform(data_test_cont)[:,0:num])\n",
    "    X_train_part2.reset_index(inplace = True)\n",
    "    X_test_part2.reset_index(inplace = True)\n",
    "    pca_data_part2.reset_index(inplace = True)\n",
    "    X_train_part2.drop(columns = 'index', inplace = True)\n",
    "    X_test_part2.drop(columns = 'index', inplace = True)\n",
    "    pca_data_part2.drop(columns = 'index', inplace = True)\n",
    "    train = pd.concat([pca_train_part1, X_train_part2], axis = 1)\n",
    "    test = pd.concat([pca_test_part1, X_test_part2], axis = 1)\n",
    "    datatest = pd.concat([pca_data_part1, pca_data_part2], axis = 1)\n",
    "    model = run_xgb(train, y_train, params)\n",
    "    get_scores(train, y_train, test, y_test, model)\n",
    "    out = model.predict_proba(datatest)\n",
    "    return out"
   ]
  },
  {
   "cell_type": "code",
   "execution_count": null,
   "metadata": {},
   "outputs": [],
   "source": [
    "pca.explained_variance_ratio_"
   ]
  },
  {
   "cell_type": "code",
   "execution_count": null,
   "metadata": {},
   "outputs": [],
   "source": [
    "pca_data_part2 = data_test[cat]\n",
    "data_test_cont = data_test[cont]"
   ]
  },
  {
   "cell_type": "code",
   "execution_count": null,
   "metadata": {},
   "outputs": [],
   "source": [
    "data_test_cat.shape"
   ]
  },
  {
   "cell_type": "code",
   "execution_count": null,
   "metadata": {},
   "outputs": [],
   "source": [
    "output = score(25)"
   ]
  },
  {
   "cell_type": "code",
   "execution_count": null,
   "metadata": {},
   "outputs": [],
   "source": [
    "np.savetxt(\"submission11.csv\", output[:,1] , delimiter=\"\\n\")"
   ]
  },
  {
   "cell_type": "code",
   "execution_count": null,
   "metadata": {},
   "outputs": [],
   "source": [
    "score(5)"
   ]
  },
  {
   "cell_type": "code",
   "execution_count": null,
   "metadata": {},
   "outputs": [],
   "source": []
  },
  {
   "cell_type": "code",
   "execution_count": null,
   "metadata": {},
   "outputs": [],
   "source": [
    "data_test"
   ]
  },
  {
   "cell_type": "code",
   "execution_count": null,
   "metadata": {},
   "outputs": [],
   "source": [
    "pd.DataFrame(pca_train_part1)"
   ]
  },
  {
   "cell_type": "code",
   "execution_count": 62,
   "metadata": {},
   "outputs": [],
   "source": [
    "def grid_search(model, params, X, y):\n",
    "    \n",
    "    cv = GridSearchCV(model, params, cv = 3)\n",
    "    cv.fit(X, y)\n",
    "    \n",
    "    return cv.best_params_\n",
    "\n",
    "def train_model(model, X, y):\n",
    "    model.fit(X, y)\n",
    "    y_pred = model.predict(X)\n",
    "    \n",
    "    return model\n",
    "\n",
    "def get_scores(model, X, y):\n",
    "    y_pred = model.predict(X)\n",
    "    print(classification_report(y, y_pred))\n",
    "\n",
    "def get_output(model, X):\n",
    "    \n",
    "    ypred =model.predict_proba(X)\n",
    "    \n",
    "    return ypred\n",
    "    \n",
    "    "
   ]
  },
  {
   "cell_type": "code",
   "execution_count": 13,
   "metadata": {},
   "outputs": [],
   "source": [
    "from sklearn.preprocessing import StandardScaler\n",
    "cols_svm = ['NAME_CONTRACT_TYPE', 'AMT_INCOME_TOTAL', 'AMT_CREDIT', 'REGION_POPULATION_RELATIVE', 'DAYS_REGISTRATION', 'FLAG_EMP_PHONE', 'CNT_FAM_MEMBERS', 'EXT_SOURCE_1', 'EXT_SOURCE_2', 'EXT_SOURCE_3', 'AMT_REQ_CREDIT_BUREAU_HOUR', 'AMT_REQ_CREDIT_BUREAU_MON', 'CODE_GENDER_M', 'NAME_INCOME_TYPE_Businessman', 'NAME_INCOME_TYPE_Student', 'NAME_EDUCATION_TYPE_Academic degree', 'NAME_EDUCATION_TYPE_Higher education', 'NAME_HOUSING_TYPE_Co-op apartment', 'ORGANIZATION_TYPE_Medicine', 'ORGANIZATION_TYPE_Services', 'AGE', 'Years_experience', 'occ_low_level', 'occ_medium_level', 'occ_high_leve', 'Number_of_total_loans', 'Number_of_active_loans', 'Number_of_bad_loans', 'Credit_card', 'DPD', 'MAX_Over_due', 'Current_balance', 'Current_debt', 'current_overdue', 'AMT_BALANCE', 'AMT_PAYMENT_CURRENT']\n",
    "X_train_svm = X_train[cols_svm]\n",
    "X_test_svm = X_test[cols_svm]\n",
    "scaler = StandardScaler()\n",
    "scaler.fit(X_train_svm)\n",
    "X_train_svm = scaler.transform(X_train_svm)\n",
    "X_test_svm = scaler.transform(X_test_svm)"
   ]
  },
  {
   "cell_type": "code",
   "execution_count": 21,
   "metadata": {},
   "outputs": [
    {
     "name": "stdout",
     "output_type": "stream",
     "text": [
      "Training Scores\n"
     ]
    },
    {
     "name": "stderr",
     "output_type": "stream",
     "text": [
      "C:\\Users\\siyer\\anaconda3\\lib\\site-packages\\sklearn\\metrics\\_classification.py:1221: UndefinedMetricWarning: Precision and F-score are ill-defined and being set to 0.0 in labels with no predicted samples. Use `zero_division` parameter to control this behavior.\n",
      "  _warn_prf(average, modifier, msg_start, len(result))\n"
     ]
    },
    {
     "name": "stdout",
     "output_type": "stream",
     "text": [
      "              precision    recall  f1-score   support\n",
      "\n",
      "           0       0.00      0.00      0.00    226148\n",
      "           1       0.08      1.00      0.15     19860\n",
      "\n",
      "    accuracy                           0.08    246008\n",
      "   macro avg       0.04      0.50      0.07    246008\n",
      "weighted avg       0.01      0.08      0.01    246008\n",
      "\n",
      "Testing Scores\n",
      "              precision    recall  f1-score   support\n",
      "\n",
      "           0       0.00      0.00      0.00     56538\n",
      "           1       0.08      1.00      0.15      4965\n",
      "\n",
      "    accuracy                           0.08     61503\n",
      "   macro avg       0.04      0.50      0.07     61503\n",
      "weighted avg       0.01      0.08      0.01     61503\n",
      "\n"
     ]
    },
    {
     "name": "stderr",
     "output_type": "stream",
     "text": [
      "C:\\Users\\siyer\\anaconda3\\lib\\site-packages\\sklearn\\metrics\\_classification.py:1221: UndefinedMetricWarning: Precision and F-score are ill-defined and being set to 0.0 in labels with no predicted samples. Use `zero_division` parameter to control this behavior.\n",
      "  _warn_prf(average, modifier, msg_start, len(result))\n"
     ]
    }
   ],
   "source": [
    "clf = svm.SVC()\n",
    "params = {'kernel' : ['rbf'], 'C' : [0.1, 0.5, 1], 'gamma' : [ 0.1, 0.5], 'class_weight' : ['balanced'], 'max_iter' : [1000]}\n",
    "best_params = grid_search(clf, params, X_train_svm, y_train)\n",
    "print(\"Best Params are:\", best_params)\n",
    "\n",
    "clf = svm.SVC(**best_params)\n",
    "\n",
    "clf = train_model(clf, X_train_svm, y_train)\n",
    "\n",
    "print(\"Training Scores\")\n",
    "get_scores(clf, X_train_svm, y_train)\n",
    "\n",
    "print(\"Testing Scores\")\n",
    "get_scores(clf, X_test_svm, y_test)"
   ]
  },
  {
   "cell_type": "code",
   "execution_count": 28,
   "metadata": {},
   "outputs": [],
   "source": [
    "bagging_cols = ['NAME_CONTRACT_TYPE', 'FLAG_OWN_CAR', 'FLAG_OWN_REALTY', 'AMT_INCOME_TOTAL', 'AMT_CREDIT', 'REGION_POPULATION_RELATIVE', 'DAYS_REGISTRATION', 'DAYS_ID_PUBLISH', 'FLAG_EMP_PHONE', 'FLAG_CONT_MOBILE', 'FLAG_EMAIL', 'CNT_FAM_MEMBERS', 'REGION_RATING_CLIENT', 'HOUR_APPR_PROCESS_START', 'REG_REGION_NOT_LIVE_REGION', 'REG_REGION_NOT_WORK_REGION', 'REG_CITY_NOT_LIVE_CITY', 'EXT_SOURCE_1', 'EXT_SOURCE_2', 'EXT_SOURCE_3', 'DEF_30_CNT_SOCIAL_CIRCLE', 'OBS_60_CNT_SOCIAL_CIRCLE', 'FLAG_DOCUMENT_3', 'FLAG_DOCUMENT_6', 'CODE_GENDER_M', 'NAME_INCOME_TYPE_Businessman', 'NAME_INCOME_TYPE_Student', 'NAME_EDUCATION_TYPE_Academic degree', 'NAME_EDUCATION_TYPE_Higher education', 'NAME_HOUSING_TYPE_Co-op apartment', 'ORGANIZATION_TYPE_Medicine', 'ORGANIZATION_TYPE_Restaurant', 'ORGANIZATION_TYPE_Services', 'ORGANIZATION_TYPE_Telecom', 'ORGANIZATION_TYPE_University', 'AGE', 'Years_experience', 'Businesss', 'white_collar', 'occ_low_level', 'occ_medium_level', 'occ_high_leve', 'Married', 'Number_of_total_loans', 'Number_of_active_loans', 'Number_of_bad_loans', 'Car_loans', 'Consumer_credit', 'Credit_card', 'Micro_loan', 'DPD', 'MAX_Over_due', 'Current_balance', 'Current_debt', 'current_overdue', 'AMT_BALANCE', 'AMT_PAYMENT_CURRENT']\n",
    "X_train_bag = X_train[bagging_cols]\n",
    "X_test_bag = X_test[bagging_cols]\n"
   ]
  },
  {
   "cell_type": "code",
   "execution_count": 33,
   "metadata": {},
   "outputs": [
    {
     "name": "stdout",
     "output_type": "stream",
     "text": [
      "Best Params are: {'class_weight': 'balanced', 'criterion': 'gini', 'max_depth': 10, 'min_samples_split': 100, 'n_estimators': 500}\n",
      "              precision    recall  f1-score   support\n",
      "\n",
      "           0       0.97      0.72      0.83    226148\n",
      "           1       0.18      0.71      0.29     19860\n",
      "\n",
      "    accuracy                           0.72    246008\n",
      "   macro avg       0.57      0.72      0.56    246008\n",
      "weighted avg       0.90      0.72      0.78    246008\n",
      "\n",
      "Training Scores\n",
      "              precision    recall  f1-score   support\n",
      "\n",
      "           0       0.97      0.72      0.83    226148\n",
      "           1       0.18      0.71      0.29     19860\n",
      "\n",
      "    accuracy                           0.72    246008\n",
      "   macro avg       0.57      0.72      0.56    246008\n",
      "weighted avg       0.90      0.72      0.78    246008\n",
      "\n",
      "Testing Scores\n",
      "              precision    recall  f1-score   support\n",
      "\n",
      "           0       0.96      0.72      0.82     56538\n",
      "           1       0.17      0.65      0.27      4965\n",
      "\n",
      "    accuracy                           0.71     61503\n",
      "   macro avg       0.56      0.68      0.55     61503\n",
      "weighted avg       0.89      0.71      0.78     61503\n",
      "\n"
     ]
    }
   ],
   "source": [
    "clf = RandomForestClassifier()\n",
    "params = {'max_depth' : [3, 5, 10], 'min_samples_split' : [100], 'criterion' : ['gini', 'entropy'], 'n_estimators' : [50, 100, 200, 500], 'class_weight' : ['balanced']}\n",
    "best_params = grid_search(clf, params, X_train_bag, y_train)\n",
    "print(\"Best Params are:\", best_params)\n",
    "clf = RandomForestClassifier(**best_params)\n",
    "\n",
    "clf = train_model(clf, X_train, y_train)\n",
    "\n",
    "print(\"Training Scores\")\n",
    "get_scores(clf, X_train, y_train)\n",
    "\n",
    "print(\"Testing Scores\")\n",
    "get_scores(clf, X_test, y_test)"
   ]
  },
  {
   "cell_type": "code",
   "execution_count": 35,
   "metadata": {},
   "outputs": [
    {
     "name": "stdout",
     "output_type": "stream",
     "text": [
      "Best Params are: {'class_weight': 'balanced', 'criterion': 'gini', 'max_depth': 25, 'min_samples_split': 100, 'n_estimators': 750}\n",
      "              precision    recall  f1-score   support\n",
      "\n",
      "           0       0.98      0.89      0.94    226148\n",
      "           1       0.40      0.80      0.53     19860\n",
      "\n",
      "    accuracy                           0.89    246008\n",
      "   macro avg       0.69      0.85      0.73    246008\n",
      "weighted avg       0.93      0.89      0.90    246008\n",
      "\n",
      "Training Scores\n",
      "              precision    recall  f1-score   support\n",
      "\n",
      "           0       0.98      0.89      0.94    226148\n",
      "           1       0.40      0.80      0.53     19860\n",
      "\n",
      "    accuracy                           0.89    246008\n",
      "   macro avg       0.69      0.85      0.73    246008\n",
      "weighted avg       0.93      0.89      0.90    246008\n",
      "\n",
      "Testing Scores\n",
      "              precision    recall  f1-score   support\n",
      "\n",
      "           0       0.95      0.88      0.91     56538\n",
      "           1       0.23      0.42      0.30      4965\n",
      "\n",
      "    accuracy                           0.84     61503\n",
      "   macro avg       0.59      0.65      0.60     61503\n",
      "weighted avg       0.89      0.84      0.86     61503\n",
      "\n"
     ]
    }
   ],
   "source": [
    "clf = RandomForestClassifier()\n",
    "params = {'max_depth' : [20, 25, 15], 'min_samples_split' : [100], 'criterion' : ['gini'], 'n_estimators' : [400, 500, 750], 'class_weight' : ['balanced']}\n",
    "best_params = grid_search(clf, params, X_train_bag, y_train)\n",
    "print(\"Best Params are:\", best_params)\n",
    "clf = RandomForestClassifier(**best_params)\n",
    "\n",
    "clf = train_model(clf, X_train, y_train)\n",
    "\n",
    "print(\"Training Scores\")\n",
    "get_scores(clf, X_train, y_train)\n",
    "\n",
    "print(\"Testing Scores\")\n",
    "get_scores(clf, X_test, y_test)"
   ]
  },
  {
   "cell_type": "code",
   "execution_count": 36,
   "metadata": {},
   "outputs": [],
   "source": [
    "clf_best = clf"
   ]
  },
  {
   "cell_type": "code",
   "execution_count": 37,
   "metadata": {},
   "outputs": [
    {
     "name": "stdout",
     "output_type": "stream",
     "text": [
      "Best Params are: {'class_weight': 'balanced', 'criterion': 'gini', 'max_depth': 30, 'min_samples_split': 100, 'n_estimators': 1000}\n",
      "              precision    recall  f1-score   support\n",
      "\n",
      "           0       0.98      0.90      0.94    226148\n",
      "           1       0.42      0.80      0.55     19860\n",
      "\n",
      "    accuracy                           0.89    246008\n",
      "   macro avg       0.70      0.85      0.75    246008\n",
      "weighted avg       0.94      0.89      0.91    246008\n",
      "\n",
      "Training Scores\n",
      "              precision    recall  f1-score   support\n",
      "\n",
      "           0       0.98      0.90      0.94    226148\n",
      "           1       0.42      0.80      0.55     19860\n",
      "\n",
      "    accuracy                           0.89    246008\n",
      "   macro avg       0.70      0.85      0.75    246008\n",
      "weighted avg       0.94      0.89      0.91    246008\n",
      "\n",
      "Testing Scores\n",
      "              precision    recall  f1-score   support\n",
      "\n",
      "           0       0.94      0.89      0.91     56538\n",
      "           1       0.24      0.41      0.30      4965\n",
      "\n",
      "    accuracy                           0.85     61503\n",
      "   macro avg       0.59      0.65      0.61     61503\n",
      "weighted avg       0.89      0.85      0.86     61503\n",
      "\n"
     ]
    }
   ],
   "source": [
    "clf = RandomForestClassifier()\n",
    "params = {'max_depth' : [24, 25, 30], 'min_samples_split' : [100], 'criterion' : ['gini'], 'n_estimators' : [1000, 700, 750], 'class_weight' : ['balanced']}\n",
    "best_params = grid_search(clf, params, X_train_bag, y_train)\n",
    "print(\"Best Params are:\", best_params)\n",
    "clf = RandomForestClassifier(**best_params)\n",
    "\n",
    "clf = train_model(clf, X_train, y_train)\n",
    "\n",
    "print(\"Training Scores\")\n",
    "get_scores(clf, X_train, y_train)\n",
    "\n",
    "print(\"Testing Scores\")\n",
    "get_scores(clf, X_test, y_test)"
   ]
  },
  {
   "cell_type": "code",
   "execution_count": 38,
   "metadata": {},
   "outputs": [
    {
     "name": "stdout",
     "output_type": "stream",
     "text": [
      "Best Params are: {'class_weight': 'balanced', 'criterion': 'gini', 'max_depth': 35, 'min_samples_split': 100, 'n_estimators': 1000}\n",
      "              precision    recall  f1-score   support\n",
      "\n",
      "           0       0.98      0.90      0.94    226148\n",
      "           1       0.43      0.80      0.56     19860\n",
      "\n",
      "    accuracy                           0.90    246008\n",
      "   macro avg       0.70      0.85      0.75    246008\n",
      "weighted avg       0.94      0.90      0.91    246008\n",
      "\n",
      "Training Scores\n",
      "              precision    recall  f1-score   support\n",
      "\n",
      "           0       0.98      0.90      0.94    226148\n",
      "           1       0.43      0.80      0.56     19860\n",
      "\n",
      "    accuracy                           0.90    246008\n",
      "   macro avg       0.70      0.85      0.75    246008\n",
      "weighted avg       0.94      0.90      0.91    246008\n",
      "\n",
      "Testing Scores\n",
      "              precision    recall  f1-score   support\n",
      "\n",
      "           0       0.94      0.89      0.91     56538\n",
      "           1       0.24      0.41      0.30      4965\n",
      "\n",
      "    accuracy                           0.85     61503\n",
      "   macro avg       0.59      0.65      0.61     61503\n",
      "weighted avg       0.89      0.85      0.86     61503\n",
      "\n"
     ]
    }
   ],
   "source": [
    "clf = RandomForestClassifier()\n",
    "params = {'max_depth' : [28, 30, 35], 'min_samples_split' : [100], 'criterion' : ['gini'], 'n_estimators' : [1000, 950, 1200], 'class_weight' : ['balanced']}\n",
    "best_params = grid_search(clf, params, X_train_bag, y_train)\n",
    "print(\"Best Params are:\", best_params)\n",
    "clf = RandomForestClassifier(**best_params)\n",
    "\n",
    "clf = train_model(clf, X_train, y_train)\n",
    "\n",
    "print(\"Training Scores\")\n",
    "get_scores(clf, X_train, y_train)\n",
    "\n",
    "print(\"Testing Scores\")\n",
    "get_scores(clf, X_test, y_test)"
   ]
  },
  {
   "cell_type": "code",
   "execution_count": 42,
   "metadata": {},
   "outputs": [],
   "source": [
    "data_testing = data_test[X_test.columns]"
   ]
  },
  {
   "cell_type": "code",
   "execution_count": 45,
   "metadata": {},
   "outputs": [],
   "source": [
    "def predict_out(data, cols, filename, clf):\n",
    "    out = data[cols]\n",
    "    out = clf.predict_proba(out)\n",
    "    pd.DataFrame(out).to_csv(filename)\n",
    "    "
   ]
  },
  {
   "cell_type": "code",
   "execution_count": 50,
   "metadata": {},
   "outputs": [],
   "source": [
    "importances = clf.feature_importances_\n",
    "features = list(X_train.columns)"
   ]
  },
  {
   "cell_type": "code",
   "execution_count": 57,
   "metadata": {},
   "outputs": [],
   "source": [
    "imp = zip(features, importances)\n"
   ]
  },
  {
   "cell_type": "code",
   "execution_count": 58,
   "metadata": {},
   "outputs": [
    {
     "data": {
      "text/plain": [
       "[('occ_missing', 0.0),\n",
       " ('NAME_INCOME_TYPE_Businessman', 6.351406488933979e-20),\n",
       " ('NAME_INCOME_TYPE_Student', 7.795306611012928e-07),\n",
       " ('NAME_EDUCATION_TYPE_Academic degree', 1.299954145124713e-05),\n",
       " ('Number_of_bad_loans', 1.6098959751400062e-05),\n",
       " ('ORGANIZATION_TYPE_Religion', 2.4955981633838377e-05),\n",
       " ('NAME_INCOME_TYPE_Unemployed', 6.330737698125212e-05),\n",
       " ('ORGANIZATION_TYPE_Mobile', 0.00013513706981186014),\n",
       " ('ORGANIZATION_TYPE_Insurance', 0.00016746303601646986),\n",
       " ('ORGANIZATION_TYPE_Legal Services', 0.00017277832575027127),\n",
       " ('FLAG_CONT_MOBILE', 0.0001743625463326113),\n",
       " ('ORGANIZATION_TYPE_Culture', 0.00017734028642773847),\n",
       " ('ORGANIZATION_TYPE_Advertising', 0.000225329136236892),\n",
       " ('ORGANIZATION_TYPE_Realtor', 0.0002868486406544982),\n",
       " ('ORGANIZATION_TYPE_Telecom', 0.0002897540382763482),\n",
       " ('ORGANIZATION_TYPE_University', 0.000298554903624419),\n",
       " ('NAME_HOUSING_TYPE_Co-op apartment', 0.00044371922553111584),\n",
       " ('AMT_REQ_CREDIT_BUREAU_HOUR', 0.0004709712893055032),\n",
       " ('ORGANIZATION_TYPE_Services', 0.0005002704577240236),\n",
       " ('ORGANIZATION_TYPE_Police', 0.0005129210223327751),\n",
       " ('ORGANIZATION_TYPE_Bank', 0.0005209085097553684),\n",
       " ('ORGANIZATION_TYPE_Restaurant', 0.000715593648119912),\n",
       " ('DPD', 0.0007196060009219972),\n",
       " ('NAME_HOUSING_TYPE_Office apartment', 0.00081776840705979),\n",
       " ('Other', 0.0008604775979255637),\n",
       " ('REG_REGION_NOT_LIVE_REGION', 0.0009013977156091263),\n",
       " ('ORGANIZATION_TYPE_Agriculture', 0.0009145559385308812),\n",
       " ('Number_of_sold_loans', 0.0013465130694002134),\n",
       " ('NAME_EDUCATION_TYPE_Lower secondary', 0.0014002773780524933),\n",
       " ('NAME_HOUSING_TYPE_Rented apartment', 0.0014715309525479942),\n",
       " ('FLAG_DOCUMENT_6', 0.0015778303682580219),\n",
       " ('occ_medium_level', 0.0016374862532878248),\n",
       " ('ORGANIZATION_TYPE_Medicine', 0.0016617307986079488),\n",
       " ('transport', 0.00181188182038266),\n",
       " ('ORGANIZATION_TYPE_Construction', 0.001850522580390962),\n",
       " ('NAME_HOUSING_TYPE_Municipal apartment', 0.0019638333481716056),\n",
       " ('REG_REGION_NOT_WORK_REGION', 0.001973754442986574),\n",
       " ('trade', 0.002083098242352958),\n",
       " ('industry', 0.0021280391918931745),\n",
       " ('NAME_EDUCATION_TYPE_Incomplete higher', 0.0021687501468166744),\n",
       " ('FLAG_EMAIL', 0.002244106101740563),\n",
       " ('ORGANIZATION_TYPE_Other', 0.0023368078047273128),\n",
       " ('current_overdue', 0.0023839858218621503),\n",
       " ('white_collar', 0.002398946103890856),\n",
       " ('Mortgage', 0.002511862429364377),\n",
       " ('LIVE_CITY_NOT_WORK_CITY', 0.0025712535975015906),\n",
       " ('services', 0.0025796201835307083),\n",
       " ('Car_loans', 0.002862324660324632),\n",
       " ('NAME_HOUSING_TYPE_House / apartment', 0.002920607415436123),\n",
       " ('ORGANIZATION_TYPE_Self-employed', 0.003014378348521266),\n",
       " ('Businesss', 0.0030463515305009566),\n",
       " ('FLAG_OWN_REALTY', 0.0033753625168487815),\n",
       " ('accompanied', 0.003512192620320574),\n",
       " ('FLAG_EMP_PHONE', 0.003546811530366738),\n",
       " ('Married', 0.0036515822247476758),\n",
       " ('Micro_loan', 0.0038532136061519484),\n",
       " ('REG_CITY_NOT_LIVE_CITY', 0.003918617497991963),\n",
       " ('REG_CITY_NOT_WORK_CITY', 0.0042483952738801714),\n",
       " ('NAME_CONTRACT_TYPE', 0.004543948975902001),\n",
       " ('occ_high_leve', 0.0047027812015691915),\n",
       " ('AMT_REQ_CREDIT_BUREAU_MON', 0.004849887862115491),\n",
       " ('FLAG_OWN_CAR', 0.0051544560980261835),\n",
       " ('AMT_REQ_CREDIT_BUREAU_QRT', 0.0056201673579768605),\n",
       " ('DEF_30_CNT_SOCIAL_CIRCLE', 0.006052805207144717),\n",
       " ('FLAG_DOCUMENT_3', 0.006932765387080202),\n",
       " ('Working ', 0.007008009051908472),\n",
       " ('CNT_FAM_MEMBERS', 0.008730019852209996),\n",
       " ('REGION_RATING_CLIENT', 0.009489059546479987),\n",
       " ('CODE_GENDER_M', 0.009769856941041271),\n",
       " ('Credit_card', 0.010254669487355879),\n",
       " ('NAME_EDUCATION_TYPE_Higher education', 0.012382215182847073),\n",
       " ('OBS_60_CNT_SOCIAL_CIRCLE', 0.013060706951728151),\n",
       " ('occ_low_level', 0.014299905475544248),\n",
       " ('AMT_PAYMENT_CURRENT', 0.014581250553613721),\n",
       " ('Consumer_credit', 0.015938512655109514),\n",
       " ('MAX_Over_due', 0.01652843560695067),\n",
       " ('Number_of_total_loans', 0.016991550002505233),\n",
       " ('AMT_BALANCE', 0.0170056942627551),\n",
       " ('Number_of_active_loans', 0.017183503967845962),\n",
       " ('HOUR_APPR_PROCESS_START', 0.020166587968340623),\n",
       " ('AMT_INCOME_TOTAL', 0.02570701175406776),\n",
       " ('REGION_POPULATION_RELATIVE', 0.028623947373448533),\n",
       " ('Current_debt', 0.030281367596265898),\n",
       " ('Current_balance', 0.033017878680849454),\n",
       " ('DAYS_REGISTRATION', 0.03686354684517577),\n",
       " ('DAYS_LAST_PHONE_CHANGE', 0.03872240777487769),\n",
       " ('DAYS_ID_PUBLISH', 0.03930800603220702),\n",
       " ('AMT_CREDIT', 0.04185741916566874),\n",
       " ('Years_experience', 0.043563844944667765),\n",
       " ('AGE', 0.05019398535067414),\n",
       " ('EXT_SOURCE_1', 0.056600147334619474),\n",
       " ('EXT_SOURCE_3', 0.12158279197693254),\n",
       " ('EXT_SOURCE_2', 0.12495528852721113)]"
      ]
     },
     "execution_count": 58,
     "metadata": {},
     "output_type": "execute_result"
    }
   ],
   "source": [
    "list(sorted(imp, key = lambda t:t[1]))"
   ]
  },
  {
   "cell_type": "code",
   "execution_count": 46,
   "metadata": {},
   "outputs": [],
   "source": [
    "predict_out(data_test,X_test.columns, 'submission_test.csv', clf )"
   ]
  },
  {
   "cell_type": "code",
   "execution_count": 59,
   "metadata": {},
   "outputs": [
    {
     "name": "stdout",
     "output_type": "stream",
     "text": [
      "Best Params are: {'class_weight': 'balanced', 'criterion': 'gini', 'max_depth': 35, 'min_samples_split': 100, 'n_estimators': 1000}\n",
      "              precision    recall  f1-score   support\n",
      "\n",
      "           0       0.98      0.90      0.94    226148\n",
      "           1       0.42      0.80      0.56     19860\n",
      "\n",
      "    accuracy                           0.90    246008\n",
      "   macro avg       0.70      0.85      0.75    246008\n",
      "weighted avg       0.94      0.90      0.91    246008\n",
      "\n",
      "Training Scores\n",
      "              precision    recall  f1-score   support\n",
      "\n",
      "           0       0.98      0.90      0.94    226148\n",
      "           1       0.42      0.80      0.56     19860\n",
      "\n",
      "    accuracy                           0.90    246008\n",
      "   macro avg       0.70      0.85      0.75    246008\n",
      "weighted avg       0.94      0.90      0.91    246008\n",
      "\n",
      "Testing Scores\n",
      "              precision    recall  f1-score   support\n",
      "\n",
      "           0       0.94      0.89      0.91     56538\n",
      "           1       0.24      0.41      0.30      4965\n",
      "\n",
      "    accuracy                           0.85     61503\n",
      "   macro avg       0.59      0.65      0.61     61503\n",
      "weighted avg       0.89      0.85      0.86     61503\n",
      "\n"
     ]
    }
   ],
   "source": [
    "clf1 = RandomForestClassifier()\n",
    "params = {'max_depth' : [40, 33, 35], 'min_samples_split' : [100], 'criterion' : ['gini'], 'n_estimators' : [1000, 1050, 950], 'class_weight' : ['balanced']}\n",
    "best_params = grid_search(clf1, params, X_train_bag, y_train)\n",
    "print(\"Best Params are:\", best_params)\n",
    "clf1 = RandomForestClassifier(**best_params)\n",
    "\n",
    "clf1 = train_model(clf1, X_train, y_train)\n",
    "\n",
    "print(\"Training Scores\")\n",
    "get_scores(clf1, X_train, y_train)\n",
    "\n",
    "print(\"Testing Scores\")\n",
    "get_scores(clf1, X_test, y_test)"
   ]
  },
  {
   "cell_type": "code",
   "execution_count": 63,
   "metadata": {},
   "outputs": [
    {
     "name": "stdout",
     "output_type": "stream",
     "text": [
      "[15:57:34] WARNING: C:\\Users\\Administrator\\workspace\\xgboost-win64_release_1.2.0\\src\\learner.cc:516: \n",
      "Parameters: { alpha , eta , gamma , max_depth  } might not be used.\n",
      "\n",
      "  This may not be accurate due to some parameters are only used in language bindings but\n",
      "  passed down to XGBoost core.  Or some parameters are not used but slip through this\n",
      "  verification. Please open an issue if you find above cases.\n",
      "\n",
      "\n",
      "[16:00:14] WARNING: C:\\Users\\Administrator\\workspace\\xgboost-win64_release_1.2.0\\src\\learner.cc:516: \n",
      "Parameters: { alpha , eta , gamma , max_depth  } might not be used.\n",
      "\n",
      "  This may not be accurate due to some parameters are only used in language bindings but\n",
      "  passed down to XGBoost core.  Or some parameters are not used but slip through this\n",
      "  verification. Please open an issue if you find above cases.\n",
      "\n",
      "\n",
      "[16:02:53] WARNING: C:\\Users\\Administrator\\workspace\\xgboost-win64_release_1.2.0\\src\\learner.cc:516: \n",
      "Parameters: { alpha , eta , gamma , max_depth  } might not be used.\n",
      "\n",
      "  This may not be accurate due to some parameters are only used in language bindings but\n",
      "  passed down to XGBoost core.  Or some parameters are not used but slip through this\n",
      "  verification. Please open an issue if you find above cases.\n",
      "\n",
      "\n",
      "[16:05:19] WARNING: C:\\Users\\Administrator\\workspace\\xgboost-win64_release_1.2.0\\src\\learner.cc:516: \n",
      "Parameters: { alpha , eta , gamma , max_depth  } might not be used.\n",
      "\n",
      "  This may not be accurate due to some parameters are only used in language bindings but\n",
      "  passed down to XGBoost core.  Or some parameters are not used but slip through this\n",
      "  verification. Please open an issue if you find above cases.\n",
      "\n",
      "\n",
      "[16:07:09] WARNING: C:\\Users\\Administrator\\workspace\\xgboost-win64_release_1.2.0\\src\\learner.cc:516: \n",
      "Parameters: { alpha , eta , gamma , max_depth  } might not be used.\n",
      "\n",
      "  This may not be accurate due to some parameters are only used in language bindings but\n",
      "  passed down to XGBoost core.  Or some parameters are not used but slip through this\n",
      "  verification. Please open an issue if you find above cases.\n",
      "\n",
      "\n",
      "[16:08:58] WARNING: C:\\Users\\Administrator\\workspace\\xgboost-win64_release_1.2.0\\src\\learner.cc:516: \n",
      "Parameters: { alpha , eta , gamma , max_depth  } might not be used.\n",
      "\n",
      "  This may not be accurate due to some parameters are only used in language bindings but\n",
      "  passed down to XGBoost core.  Or some parameters are not used but slip through this\n",
      "  verification. Please open an issue if you find above cases.\n",
      "\n",
      "\n",
      "[16:10:46] WARNING: C:\\Users\\Administrator\\workspace\\xgboost-win64_release_1.2.0\\src\\learner.cc:516: \n",
      "Parameters: { alpha , eta , gamma , max_depth  } might not be used.\n",
      "\n",
      "  This may not be accurate due to some parameters are only used in language bindings but\n",
      "  passed down to XGBoost core.  Or some parameters are not used but slip through this\n",
      "  verification. Please open an issue if you find above cases.\n",
      "\n",
      "\n",
      "[16:13:25] WARNING: C:\\Users\\Administrator\\workspace\\xgboost-win64_release_1.2.0\\src\\learner.cc:516: \n",
      "Parameters: { alpha , eta , gamma , max_depth  } might not be used.\n",
      "\n",
      "  This may not be accurate due to some parameters are only used in language bindings but\n",
      "  passed down to XGBoost core.  Or some parameters are not used but slip through this\n",
      "  verification. Please open an issue if you find above cases.\n",
      "\n",
      "\n",
      "[16:16:08] WARNING: C:\\Users\\Administrator\\workspace\\xgboost-win64_release_1.2.0\\src\\learner.cc:516: \n",
      "Parameters: { alpha , eta , gamma , max_depth  } might not be used.\n",
      "\n",
      "  This may not be accurate due to some parameters are only used in language bindings but\n",
      "  passed down to XGBoost core.  Or some parameters are not used but slip through this\n",
      "  verification. Please open an issue if you find above cases.\n",
      "\n",
      "\n",
      "[16:18:50] WARNING: C:\\Users\\Administrator\\workspace\\xgboost-win64_release_1.2.0\\src\\learner.cc:516: \n",
      "Parameters: { alpha , eta , gamma , max_depth  } might not be used.\n",
      "\n",
      "  This may not be accurate due to some parameters are only used in language bindings but\n",
      "  passed down to XGBoost core.  Or some parameters are not used but slip through this\n",
      "  verification. Please open an issue if you find above cases.\n",
      "\n",
      "\n",
      "[16:21:05] WARNING: C:\\Users\\Administrator\\workspace\\xgboost-win64_release_1.2.0\\src\\learner.cc:516: \n",
      "Parameters: { alpha , eta , gamma , max_depth  } might not be used.\n",
      "\n",
      "  This may not be accurate due to some parameters are only used in language bindings but\n",
      "  passed down to XGBoost core.  Or some parameters are not used but slip through this\n",
      "  verification. Please open an issue if you find above cases.\n",
      "\n",
      "\n",
      "[16:23:28] WARNING: C:\\Users\\Administrator\\workspace\\xgboost-win64_release_1.2.0\\src\\learner.cc:516: \n",
      "Parameters: { alpha , eta , gamma , max_depth  } might not be used.\n",
      "\n",
      "  This may not be accurate due to some parameters are only used in language bindings but\n",
      "  passed down to XGBoost core.  Or some parameters are not used but slip through this\n",
      "  verification. Please open an issue if you find above cases.\n",
      "\n",
      "\n",
      "[16:25:44] WARNING: C:\\Users\\Administrator\\workspace\\xgboost-win64_release_1.2.0\\src\\learner.cc:516: \n",
      "Parameters: { alpha , eta , gamma , max_depth  } might not be used.\n",
      "\n",
      "  This may not be accurate due to some parameters are only used in language bindings but\n",
      "  passed down to XGBoost core.  Or some parameters are not used but slip through this\n",
      "  verification. Please open an issue if you find above cases.\n",
      "\n",
      "\n",
      "[16:27:29] WARNING: C:\\Users\\Administrator\\workspace\\xgboost-win64_release_1.2.0\\src\\learner.cc:516: \n",
      "Parameters: { alpha , eta , gamma , max_depth  } might not be used.\n",
      "\n",
      "  This may not be accurate due to some parameters are only used in language bindings but\n",
      "  passed down to XGBoost core.  Or some parameters are not used but slip through this\n",
      "  verification. Please open an issue if you find above cases.\n",
      "\n",
      "\n",
      "[16:29:18] WARNING: C:\\Users\\Administrator\\workspace\\xgboost-win64_release_1.2.0\\src\\learner.cc:516: \n",
      "Parameters: { alpha , eta , gamma , max_depth  } might not be used.\n",
      "\n",
      "  This may not be accurate due to some parameters are only used in language bindings but\n",
      "  passed down to XGBoost core.  Or some parameters are not used but slip through this\n",
      "  verification. Please open an issue if you find above cases.\n",
      "\n",
      "\n",
      "[16:31:06] WARNING: C:\\Users\\Administrator\\workspace\\xgboost-win64_release_1.2.0\\src\\learner.cc:516: \n",
      "Parameters: { alpha , eta , gamma , max_depth  } might not be used.\n",
      "\n",
      "  This may not be accurate due to some parameters are only used in language bindings but\n",
      "  passed down to XGBoost core.  Or some parameters are not used but slip through this\n",
      "  verification. Please open an issue if you find above cases.\n",
      "\n",
      "\n",
      "[16:33:48] WARNING: C:\\Users\\Administrator\\workspace\\xgboost-win64_release_1.2.0\\src\\learner.cc:516: \n",
      "Parameters: { alpha , eta , gamma , max_depth  } might not be used.\n",
      "\n",
      "  This may not be accurate due to some parameters are only used in language bindings but\n",
      "  passed down to XGBoost core.  Or some parameters are not used but slip through this\n",
      "  verification. Please open an issue if you find above cases.\n",
      "\n",
      "\n",
      "[16:36:32] WARNING: C:\\Users\\Administrator\\workspace\\xgboost-win64_release_1.2.0\\src\\learner.cc:516: \n",
      "Parameters: { alpha , eta , gamma , max_depth  } might not be used.\n",
      "\n",
      "  This may not be accurate due to some parameters are only used in language bindings but\n",
      "  passed down to XGBoost core.  Or some parameters are not used but slip through this\n",
      "  verification. Please open an issue if you find above cases.\n",
      "\n",
      "\n",
      "[16:39:42] WARNING: C:\\Users\\Administrator\\workspace\\xgboost-win64_release_1.2.0\\src\\learner.cc:516: \n",
      "Parameters: { alpha , eta , gamma , max_depth  } might not be used.\n",
      "\n",
      "  This may not be accurate due to some parameters are only used in language bindings but\n",
      "  passed down to XGBoost core.  Or some parameters are not used but slip through this\n",
      "  verification. Please open an issue if you find above cases.\n",
      "\n",
      "\n",
      "[16:42:05] WARNING: C:\\Users\\Administrator\\workspace\\xgboost-win64_release_1.2.0\\src\\learner.cc:516: \n",
      "Parameters: { alpha , eta , gamma , max_depth  } might not be used.\n",
      "\n",
      "  This may not be accurate due to some parameters are only used in language bindings but\n",
      "  passed down to XGBoost core.  Or some parameters are not used but slip through this\n",
      "  verification. Please open an issue if you find above cases.\n",
      "\n",
      "\n"
     ]
    },
    {
     "name": "stdout",
     "output_type": "stream",
     "text": [
      "[16:44:27] WARNING: C:\\Users\\Administrator\\workspace\\xgboost-win64_release_1.2.0\\src\\learner.cc:516: \n",
      "Parameters: { alpha , eta , gamma , max_depth  } might not be used.\n",
      "\n",
      "  This may not be accurate due to some parameters are only used in language bindings but\n",
      "  passed down to XGBoost core.  Or some parameters are not used but slip through this\n",
      "  verification. Please open an issue if you find above cases.\n",
      "\n",
      "\n",
      "[16:46:50] WARNING: C:\\Users\\Administrator\\workspace\\xgboost-win64_release_1.2.0\\src\\learner.cc:516: \n",
      "Parameters: { alpha , eta , gamma , max_depth  } might not be used.\n",
      "\n",
      "  This may not be accurate due to some parameters are only used in language bindings but\n",
      "  passed down to XGBoost core.  Or some parameters are not used but slip through this\n",
      "  verification. Please open an issue if you find above cases.\n",
      "\n",
      "\n",
      "[16:48:48] WARNING: C:\\Users\\Administrator\\workspace\\xgboost-win64_release_1.2.0\\src\\learner.cc:516: \n",
      "Parameters: { alpha , eta , gamma , max_depth  } might not be used.\n",
      "\n",
      "  This may not be accurate due to some parameters are only used in language bindings but\n",
      "  passed down to XGBoost core.  Or some parameters are not used but slip through this\n",
      "  verification. Please open an issue if you find above cases.\n",
      "\n",
      "\n",
      "[16:50:47] WARNING: C:\\Users\\Administrator\\workspace\\xgboost-win64_release_1.2.0\\src\\learner.cc:516: \n",
      "Parameters: { alpha , eta , gamma , max_depth  } might not be used.\n",
      "\n",
      "  This may not be accurate due to some parameters are only used in language bindings but\n",
      "  passed down to XGBoost core.  Or some parameters are not used but slip through this\n",
      "  verification. Please open an issue if you find above cases.\n",
      "\n",
      "\n",
      "[16:52:43] WARNING: C:\\Users\\Administrator\\workspace\\xgboost-win64_release_1.2.0\\src\\learner.cc:516: \n",
      "Parameters: { alpha , eta , gamma , max_depth  } might not be used.\n",
      "\n",
      "  This may not be accurate due to some parameters are only used in language bindings but\n",
      "  passed down to XGBoost core.  Or some parameters are not used but slip through this\n",
      "  verification. Please open an issue if you find above cases.\n",
      "\n",
      "\n",
      "[16:55:40] WARNING: C:\\Users\\Administrator\\workspace\\xgboost-win64_release_1.2.0\\src\\learner.cc:516: \n",
      "Parameters: { alpha , eta , gamma , max_depth  } might not be used.\n",
      "\n",
      "  This may not be accurate due to some parameters are only used in language bindings but\n",
      "  passed down to XGBoost core.  Or some parameters are not used but slip through this\n",
      "  verification. Please open an issue if you find above cases.\n",
      "\n",
      "\n",
      "[16:58:33] WARNING: C:\\Users\\Administrator\\workspace\\xgboost-win64_release_1.2.0\\src\\learner.cc:516: \n",
      "Parameters: { alpha , eta , gamma , max_depth  } might not be used.\n",
      "\n",
      "  This may not be accurate due to some parameters are only used in language bindings but\n",
      "  passed down to XGBoost core.  Or some parameters are not used but slip through this\n",
      "  verification. Please open an issue if you find above cases.\n",
      "\n",
      "\n",
      "[17:01:28] WARNING: C:\\Users\\Administrator\\workspace\\xgboost-win64_release_1.2.0\\src\\learner.cc:516: \n",
      "Parameters: { alpha , eta , gamma , max_depth  } might not be used.\n",
      "\n",
      "  This may not be accurate due to some parameters are only used in language bindings but\n",
      "  passed down to XGBoost core.  Or some parameters are not used but slip through this\n",
      "  verification. Please open an issue if you find above cases.\n",
      "\n",
      "\n",
      "[17:03:56] WARNING: C:\\Users\\Administrator\\workspace\\xgboost-win64_release_1.2.0\\src\\learner.cc:516: \n",
      "Parameters: { alpha , eta , gamma , max_depth  } might not be used.\n",
      "\n",
      "  This may not be accurate due to some parameters are only used in language bindings but\n",
      "  passed down to XGBoost core.  Or some parameters are not used but slip through this\n",
      "  verification. Please open an issue if you find above cases.\n",
      "\n",
      "\n",
      "[17:06:23] WARNING: C:\\Users\\Administrator\\workspace\\xgboost-win64_release_1.2.0\\src\\learner.cc:516: \n",
      "Parameters: { alpha , eta , gamma , max_depth  } might not be used.\n",
      "\n",
      "  This may not be accurate due to some parameters are only used in language bindings but\n",
      "  passed down to XGBoost core.  Or some parameters are not used but slip through this\n",
      "  verification. Please open an issue if you find above cases.\n",
      "\n",
      "\n",
      "[17:08:51] WARNING: C:\\Users\\Administrator\\workspace\\xgboost-win64_release_1.2.0\\src\\learner.cc:516: \n",
      "Parameters: { alpha , eta , gamma , max_depth  } might not be used.\n",
      "\n",
      "  This may not be accurate due to some parameters are only used in language bindings but\n",
      "  passed down to XGBoost core.  Or some parameters are not used but slip through this\n",
      "  verification. Please open an issue if you find above cases.\n",
      "\n",
      "\n",
      "[17:10:43] WARNING: C:\\Users\\Administrator\\workspace\\xgboost-win64_release_1.2.0\\src\\learner.cc:516: \n",
      "Parameters: { alpha , eta , gamma , max_depth  } might not be used.\n",
      "\n",
      "  This may not be accurate due to some parameters are only used in language bindings but\n",
      "  passed down to XGBoost core.  Or some parameters are not used but slip through this\n",
      "  verification. Please open an issue if you find above cases.\n",
      "\n",
      "\n",
      "[17:12:38] WARNING: C:\\Users\\Administrator\\workspace\\xgboost-win64_release_1.2.0\\src\\learner.cc:516: \n",
      "Parameters: { alpha , eta , gamma , max_depth  } might not be used.\n",
      "\n",
      "  This may not be accurate due to some parameters are only used in language bindings but\n",
      "  passed down to XGBoost core.  Or some parameters are not used but slip through this\n",
      "  verification. Please open an issue if you find above cases.\n",
      "\n",
      "\n",
      "[17:14:32] WARNING: C:\\Users\\Administrator\\workspace\\xgboost-win64_release_1.2.0\\src\\learner.cc:516: \n",
      "Parameters: { alpha , eta , gamma , max_depth  } might not be used.\n",
      "\n",
      "  This may not be accurate due to some parameters are only used in language bindings but\n",
      "  passed down to XGBoost core.  Or some parameters are not used but slip through this\n",
      "  verification. Please open an issue if you find above cases.\n",
      "\n",
      "\n",
      "[17:17:24] WARNING: C:\\Users\\Administrator\\workspace\\xgboost-win64_release_1.2.0\\src\\learner.cc:516: \n",
      "Parameters: { alpha , eta , gamma , max_depth  } might not be used.\n",
      "\n",
      "  This may not be accurate due to some parameters are only used in language bindings but\n",
      "  passed down to XGBoost core.  Or some parameters are not used but slip through this\n",
      "  verification. Please open an issue if you find above cases.\n",
      "\n",
      "\n",
      "[17:20:11] WARNING: C:\\Users\\Administrator\\workspace\\xgboost-win64_release_1.2.0\\src\\learner.cc:516: \n",
      "Parameters: { alpha , eta , gamma , max_depth  } might not be used.\n",
      "\n",
      "  This may not be accurate due to some parameters are only used in language bindings but\n",
      "  passed down to XGBoost core.  Or some parameters are not used but slip through this\n",
      "  verification. Please open an issue if you find above cases.\n",
      "\n",
      "\n",
      "[17:22:57] WARNING: C:\\Users\\Administrator\\workspace\\xgboost-win64_release_1.2.0\\src\\learner.cc:516: \n",
      "Parameters: { alpha , eta , gamma , max_depth  } might not be used.\n",
      "\n",
      "  This may not be accurate due to some parameters are only used in language bindings but\n",
      "  passed down to XGBoost core.  Or some parameters are not used but slip through this\n",
      "  verification. Please open an issue if you find above cases.\n",
      "\n",
      "\n",
      "[17:25:18] WARNING: C:\\Users\\Administrator\\workspace\\xgboost-win64_release_1.2.0\\src\\learner.cc:516: \n",
      "Parameters: { alpha , eta , gamma , max_depth  } might not be used.\n",
      "\n",
      "  This may not be accurate due to some parameters are only used in language bindings but\n",
      "  passed down to XGBoost core.  Or some parameters are not used but slip through this\n",
      "  verification. Please open an issue if you find above cases.\n",
      "\n",
      "\n",
      "[17:27:39] WARNING: C:\\Users\\Administrator\\workspace\\xgboost-win64_release_1.2.0\\src\\learner.cc:516: \n",
      "Parameters: { alpha , eta , gamma , max_depth  } might not be used.\n",
      "\n",
      "  This may not be accurate due to some parameters are only used in language bindings but\n",
      "  passed down to XGBoost core.  Or some parameters are not used but slip through this\n",
      "  verification. Please open an issue if you find above cases.\n",
      "\n",
      "\n",
      "[17:29:57] WARNING: C:\\Users\\Administrator\\workspace\\xgboost-win64_release_1.2.0\\src\\learner.cc:516: \n",
      "Parameters: { alpha , eta , gamma , max_depth  } might not be used.\n",
      "\n",
      "  This may not be accurate due to some parameters are only used in language bindings but\n",
      "  passed down to XGBoost core.  Or some parameters are not used but slip through this\n",
      "  verification. Please open an issue if you find above cases.\n",
      "\n",
      "\n"
     ]
    },
    {
     "name": "stdout",
     "output_type": "stream",
     "text": [
      "[17:31:52] WARNING: C:\\Users\\Administrator\\workspace\\xgboost-win64_release_1.2.0\\src\\learner.cc:516: \n",
      "Parameters: { alpha , eta , gamma , max_depth  } might not be used.\n",
      "\n",
      "  This may not be accurate due to some parameters are only used in language bindings but\n",
      "  passed down to XGBoost core.  Or some parameters are not used but slip through this\n",
      "  verification. Please open an issue if you find above cases.\n",
      "\n",
      "\n",
      "[17:33:50] WARNING: C:\\Users\\Administrator\\workspace\\xgboost-win64_release_1.2.0\\src\\learner.cc:516: \n",
      "Parameters: { alpha , eta , gamma , max_depth  } might not be used.\n",
      "\n",
      "  This may not be accurate due to some parameters are only used in language bindings but\n",
      "  passed down to XGBoost core.  Or some parameters are not used but slip through this\n",
      "  verification. Please open an issue if you find above cases.\n",
      "\n",
      "\n",
      "[17:35:47] WARNING: C:\\Users\\Administrator\\workspace\\xgboost-win64_release_1.2.0\\src\\learner.cc:516: \n",
      "Parameters: { alpha , eta , gamma , max_depth  } might not be used.\n",
      "\n",
      "  This may not be accurate due to some parameters are only used in language bindings but\n",
      "  passed down to XGBoost core.  Or some parameters are not used but slip through this\n",
      "  verification. Please open an issue if you find above cases.\n",
      "\n",
      "\n",
      "[17:38:44] WARNING: C:\\Users\\Administrator\\workspace\\xgboost-win64_release_1.2.0\\src\\learner.cc:516: \n",
      "Parameters: { alpha , eta , gamma , max_depth  } might not be used.\n",
      "\n",
      "  This may not be accurate due to some parameters are only used in language bindings but\n",
      "  passed down to XGBoost core.  Or some parameters are not used but slip through this\n",
      "  verification. Please open an issue if you find above cases.\n",
      "\n",
      "\n",
      "[17:41:48] WARNING: C:\\Users\\Administrator\\workspace\\xgboost-win64_release_1.2.0\\src\\learner.cc:516: \n",
      "Parameters: { alpha , eta , gamma , max_depth  } might not be used.\n",
      "\n",
      "  This may not be accurate due to some parameters are only used in language bindings but\n",
      "  passed down to XGBoost core.  Or some parameters are not used but slip through this\n",
      "  verification. Please open an issue if you find above cases.\n",
      "\n",
      "\n",
      "[17:45:38] WARNING: C:\\Users\\Administrator\\workspace\\xgboost-win64_release_1.2.0\\src\\learner.cc:516: \n",
      "Parameters: { alpha , eta , gamma , max_depth  } might not be used.\n",
      "\n",
      "  This may not be accurate due to some parameters are only used in language bindings but\n",
      "  passed down to XGBoost core.  Or some parameters are not used but slip through this\n",
      "  verification. Please open an issue if you find above cases.\n",
      "\n",
      "\n",
      "[17:49:25] WARNING: C:\\Users\\Administrator\\workspace\\xgboost-win64_release_1.2.0\\src\\learner.cc:516: \n",
      "Parameters: { alpha , eta , gamma , max_depth  } might not be used.\n",
      "\n",
      "  This may not be accurate due to some parameters are only used in language bindings but\n",
      "  passed down to XGBoost core.  Or some parameters are not used but slip through this\n",
      "  verification. Please open an issue if you find above cases.\n",
      "\n",
      "\n",
      "[17:52:46] WARNING: C:\\Users\\Administrator\\workspace\\xgboost-win64_release_1.2.0\\src\\learner.cc:516: \n",
      "Parameters: { alpha , eta , gamma , max_depth  } might not be used.\n",
      "\n",
      "  This may not be accurate due to some parameters are only used in language bindings but\n",
      "  passed down to XGBoost core.  Or some parameters are not used but slip through this\n",
      "  verification. Please open an issue if you find above cases.\n",
      "\n",
      "\n",
      "[17:55:54] WARNING: C:\\Users\\Administrator\\workspace\\xgboost-win64_release_1.2.0\\src\\learner.cc:516: \n",
      "Parameters: { alpha , eta , gamma , max_depth  } might not be used.\n",
      "\n",
      "  This may not be accurate due to some parameters are only used in language bindings but\n",
      "  passed down to XGBoost core.  Or some parameters are not used but slip through this\n",
      "  verification. Please open an issue if you find above cases.\n",
      "\n",
      "\n",
      "[17:58:28] WARNING: C:\\Users\\Administrator\\workspace\\xgboost-win64_release_1.2.0\\src\\learner.cc:516: \n",
      "Parameters: { alpha , eta , gamma , max_depth  } might not be used.\n",
      "\n",
      "  This may not be accurate due to some parameters are only used in language bindings but\n",
      "  passed down to XGBoost core.  Or some parameters are not used but slip through this\n",
      "  verification. Please open an issue if you find above cases.\n",
      "\n",
      "\n",
      "[18:01:00] WARNING: C:\\Users\\Administrator\\workspace\\xgboost-win64_release_1.2.0\\src\\learner.cc:516: \n",
      "Parameters: { alpha , eta , gamma , max_depth  } might not be used.\n",
      "\n",
      "  This may not be accurate due to some parameters are only used in language bindings but\n",
      "  passed down to XGBoost core.  Or some parameters are not used but slip through this\n",
      "  verification. Please open an issue if you find above cases.\n",
      "\n",
      "\n",
      "[18:03:41] WARNING: C:\\Users\\Administrator\\workspace\\xgboost-win64_release_1.2.0\\src\\learner.cc:516: \n",
      "Parameters: { alpha , eta , gamma , max_depth  } might not be used.\n",
      "\n",
      "  This may not be accurate due to some parameters are only used in language bindings but\n",
      "  passed down to XGBoost core.  Or some parameters are not used but slip through this\n",
      "  verification. Please open an issue if you find above cases.\n",
      "\n",
      "\n",
      "[18:07:39] WARNING: C:\\Users\\Administrator\\workspace\\xgboost-win64_release_1.2.0\\src\\learner.cc:516: \n",
      "Parameters: { alpha , eta , gamma , max_depth  } might not be used.\n",
      "\n",
      "  This may not be accurate due to some parameters are only used in language bindings but\n",
      "  passed down to XGBoost core.  Or some parameters are not used but slip through this\n",
      "  verification. Please open an issue if you find above cases.\n",
      "\n",
      "\n",
      "[18:12:03] WARNING: C:\\Users\\Administrator\\workspace\\xgboost-win64_release_1.2.0\\src\\learner.cc:516: \n",
      "Parameters: { alpha , eta , gamma , max_depth  } might not be used.\n",
      "\n",
      "  This may not be accurate due to some parameters are only used in language bindings but\n",
      "  passed down to XGBoost core.  Or some parameters are not used but slip through this\n",
      "  verification. Please open an issue if you find above cases.\n",
      "\n",
      "\n",
      "[18:16:09] WARNING: C:\\Users\\Administrator\\workspace\\xgboost-win64_release_1.2.0\\src\\learner.cc:516: \n",
      "Parameters: { alpha , eta , gamma , max_depth  } might not be used.\n",
      "\n",
      "  This may not be accurate due to some parameters are only used in language bindings but\n",
      "  passed down to XGBoost core.  Or some parameters are not used but slip through this\n",
      "  verification. Please open an issue if you find above cases.\n",
      "\n",
      "\n",
      "[18:19:25] WARNING: C:\\Users\\Administrator\\workspace\\xgboost-win64_release_1.2.0\\src\\learner.cc:516: \n",
      "Parameters: { alpha , eta , gamma , max_depth  } might not be used.\n",
      "\n",
      "  This may not be accurate due to some parameters are only used in language bindings but\n",
      "  passed down to XGBoost core.  Or some parameters are not used but slip through this\n",
      "  verification. Please open an issue if you find above cases.\n",
      "\n",
      "\n",
      "[18:23:00] WARNING: C:\\Users\\Administrator\\workspace\\xgboost-win64_release_1.2.0\\src\\learner.cc:516: \n",
      "Parameters: { alpha , eta , gamma , max_depth  } might not be used.\n",
      "\n",
      "  This may not be accurate due to some parameters are only used in language bindings but\n",
      "  passed down to XGBoost core.  Or some parameters are not used but slip through this\n",
      "  verification. Please open an issue if you find above cases.\n",
      "\n",
      "\n",
      "[18:26:32] WARNING: C:\\Users\\Administrator\\workspace\\xgboost-win64_release_1.2.0\\src\\learner.cc:516: \n",
      "Parameters: { alpha , eta , gamma , max_depth  } might not be used.\n",
      "\n",
      "  This may not be accurate due to some parameters are only used in language bindings but\n",
      "  passed down to XGBoost core.  Or some parameters are not used but slip through this\n",
      "  verification. Please open an issue if you find above cases.\n",
      "\n",
      "\n",
      "[18:29:26] WARNING: C:\\Users\\Administrator\\workspace\\xgboost-win64_release_1.2.0\\src\\learner.cc:516: \n",
      "Parameters: { alpha , eta , gamma , max_depth  } might not be used.\n",
      "\n",
      "  This may not be accurate due to some parameters are only used in language bindings but\n",
      "  passed down to XGBoost core.  Or some parameters are not used but slip through this\n",
      "  verification. Please open an issue if you find above cases.\n",
      "\n",
      "\n",
      "[18:32:08] WARNING: C:\\Users\\Administrator\\workspace\\xgboost-win64_release_1.2.0\\src\\learner.cc:516: \n",
      "Parameters: { alpha , eta , gamma , max_depth  } might not be used.\n",
      "\n",
      "  This may not be accurate due to some parameters are only used in language bindings but\n",
      "  passed down to XGBoost core.  Or some parameters are not used but slip through this\n",
      "  verification. Please open an issue if you find above cases.\n",
      "\n",
      "\n"
     ]
    },
    {
     "name": "stdout",
     "output_type": "stream",
     "text": [
      "[18:34:48] WARNING: C:\\Users\\Administrator\\workspace\\xgboost-win64_release_1.2.0\\src\\learner.cc:516: \n",
      "Parameters: { alpha , eta , gamma , max_depth  } might not be used.\n",
      "\n",
      "  This may not be accurate due to some parameters are only used in language bindings but\n",
      "  passed down to XGBoost core.  Or some parameters are not used but slip through this\n",
      "  verification. Please open an issue if you find above cases.\n",
      "\n",
      "\n",
      "[18:38:29] WARNING: C:\\Users\\Administrator\\workspace\\xgboost-win64_release_1.2.0\\src\\learner.cc:516: \n",
      "Parameters: { alpha , eta , gamma , max_depth  } might not be used.\n",
      "\n",
      "  This may not be accurate due to some parameters are only used in language bindings but\n",
      "  passed down to XGBoost core.  Or some parameters are not used but slip through this\n",
      "  verification. Please open an issue if you find above cases.\n",
      "\n",
      "\n",
      "[18:42:28] WARNING: C:\\Users\\Administrator\\workspace\\xgboost-win64_release_1.2.0\\src\\learner.cc:516: \n",
      "Parameters: { alpha , eta , gamma , max_depth  } might not be used.\n",
      "\n",
      "  This may not be accurate due to some parameters are only used in language bindings but\n",
      "  passed down to XGBoost core.  Or some parameters are not used but slip through this\n",
      "  verification. Please open an issue if you find above cases.\n",
      "\n",
      "\n",
      "[18:46:06] WARNING: C:\\Users\\Administrator\\workspace\\xgboost-win64_release_1.2.0\\src\\learner.cc:516: \n",
      "Parameters: { alpha , eta , gamma , max_depth  } might not be used.\n",
      "\n",
      "  This may not be accurate due to some parameters are only used in language bindings but\n",
      "  passed down to XGBoost core.  Or some parameters are not used but slip through this\n",
      "  verification. Please open an issue if you find above cases.\n",
      "\n",
      "\n",
      "[18:49:19] WARNING: C:\\Users\\Administrator\\workspace\\xgboost-win64_release_1.2.0\\src\\learner.cc:516: \n",
      "Parameters: { alpha , eta , gamma , max_depth  } might not be used.\n",
      "\n",
      "  This may not be accurate due to some parameters are only used in language bindings but\n",
      "  passed down to XGBoost core.  Or some parameters are not used but slip through this\n",
      "  verification. Please open an issue if you find above cases.\n",
      "\n",
      "\n",
      "[18:52:20] WARNING: C:\\Users\\Administrator\\workspace\\xgboost-win64_release_1.2.0\\src\\learner.cc:516: \n",
      "Parameters: { alpha , eta , gamma , max_depth  } might not be used.\n",
      "\n",
      "  This may not be accurate due to some parameters are only used in language bindings but\n",
      "  passed down to XGBoost core.  Or some parameters are not used but slip through this\n",
      "  verification. Please open an issue if you find above cases.\n",
      "\n",
      "\n",
      "[18:55:20] WARNING: C:\\Users\\Administrator\\workspace\\xgboost-win64_release_1.2.0\\src\\learner.cc:516: \n",
      "Parameters: { alpha , eta , gamma , max_depth  } might not be used.\n",
      "\n",
      "  This may not be accurate due to some parameters are only used in language bindings but\n",
      "  passed down to XGBoost core.  Or some parameters are not used but slip through this\n",
      "  verification. Please open an issue if you find above cases.\n",
      "\n",
      "\n",
      "[18:57:44] WARNING: C:\\Users\\Administrator\\workspace\\xgboost-win64_release_1.2.0\\src\\learner.cc:516: \n",
      "Parameters: { alpha , eta , gamma , max_depth  } might not be used.\n",
      "\n",
      "  This may not be accurate due to some parameters are only used in language bindings but\n",
      "  passed down to XGBoost core.  Or some parameters are not used but slip through this\n",
      "  verification. Please open an issue if you find above cases.\n",
      "\n",
      "\n",
      "[19:00:15] WARNING: C:\\Users\\Administrator\\workspace\\xgboost-win64_release_1.2.0\\src\\learner.cc:516: \n",
      "Parameters: { alpha , eta , gamma , max_depth  } might not be used.\n",
      "\n",
      "  This may not be accurate due to some parameters are only used in language bindings but\n",
      "  passed down to XGBoost core.  Or some parameters are not used but slip through this\n",
      "  verification. Please open an issue if you find above cases.\n",
      "\n",
      "\n",
      "[19:02:35] WARNING: C:\\Users\\Administrator\\workspace\\xgboost-win64_release_1.2.0\\src\\learner.cc:516: \n",
      "Parameters: { alpha , eta , gamma , max_depth  } might not be used.\n",
      "\n",
      "  This may not be accurate due to some parameters are only used in language bindings but\n",
      "  passed down to XGBoost core.  Or some parameters are not used but slip through this\n",
      "  verification. Please open an issue if you find above cases.\n",
      "\n",
      "\n",
      "[19:05:50] WARNING: C:\\Users\\Administrator\\workspace\\xgboost-win64_release_1.2.0\\src\\learner.cc:516: \n",
      "Parameters: { alpha , eta , gamma , max_depth  } might not be used.\n",
      "\n",
      "  This may not be accurate due to some parameters are only used in language bindings but\n",
      "  passed down to XGBoost core.  Or some parameters are not used but slip through this\n",
      "  verification. Please open an issue if you find above cases.\n",
      "\n",
      "\n",
      "[19:08:33] WARNING: C:\\Users\\Administrator\\workspace\\xgboost-win64_release_1.2.0\\src\\learner.cc:516: \n",
      "Parameters: { alpha , eta , gamma , max_depth  } might not be used.\n",
      "\n",
      "  This may not be accurate due to some parameters are only used in language bindings but\n",
      "  passed down to XGBoost core.  Or some parameters are not used but slip through this\n",
      "  verification. Please open an issue if you find above cases.\n",
      "\n",
      "\n",
      "[19:11:16] WARNING: C:\\Users\\Administrator\\workspace\\xgboost-win64_release_1.2.0\\src\\learner.cc:516: \n",
      "Parameters: { alpha , eta , gamma , max_depth  } might not be used.\n",
      "\n",
      "  This may not be accurate due to some parameters are only used in language bindings but\n",
      "  passed down to XGBoost core.  Or some parameters are not used but slip through this\n",
      "  verification. Please open an issue if you find above cases.\n",
      "\n",
      "\n",
      "Best Params are: {'alpha ': '0.8', 'eta ': 0.01, 'gamma ': 1, 'max_depth ': 12, 'n_estimators': 1200}\n"
     ]
    },
    {
     "ename": "TypeError",
     "evalue": "__init__() got an unexpected keyword argument 'alpha '",
     "output_type": "error",
     "traceback": [
      "\u001b[1;31m---------------------------------------------------------------------------\u001b[0m",
      "\u001b[1;31mTypeError\u001b[0m                                 Traceback (most recent call last)",
      "\u001b[1;32m<ipython-input-63-a8be5445596e>\u001b[0m in \u001b[0;36m<module>\u001b[1;34m\u001b[0m\n\u001b[0;32m      3\u001b[0m \u001b[0mbest_params\u001b[0m \u001b[1;33m=\u001b[0m \u001b[0mgrid_search\u001b[0m\u001b[1;33m(\u001b[0m\u001b[0mclf2\u001b[0m\u001b[1;33m,\u001b[0m \u001b[0mparams\u001b[0m\u001b[1;33m,\u001b[0m \u001b[0mX_train_bag\u001b[0m\u001b[1;33m,\u001b[0m \u001b[0my_train\u001b[0m\u001b[1;33m)\u001b[0m\u001b[1;33m\u001b[0m\u001b[1;33m\u001b[0m\u001b[0m\n\u001b[0;32m      4\u001b[0m \u001b[0mprint\u001b[0m\u001b[1;33m(\u001b[0m\u001b[1;34m\"Best Params are:\"\u001b[0m\u001b[1;33m,\u001b[0m \u001b[0mbest_params\u001b[0m\u001b[1;33m)\u001b[0m\u001b[1;33m\u001b[0m\u001b[1;33m\u001b[0m\u001b[0m\n\u001b[1;32m----> 5\u001b[1;33m \u001b[0mclf2\u001b[0m \u001b[1;33m=\u001b[0m \u001b[0mRandomForestClassifier\u001b[0m\u001b[1;33m(\u001b[0m\u001b[1;33m**\u001b[0m\u001b[0mbest_params\u001b[0m\u001b[1;33m)\u001b[0m\u001b[1;33m\u001b[0m\u001b[1;33m\u001b[0m\u001b[0m\n\u001b[0m\u001b[0;32m      6\u001b[0m \u001b[1;33m\u001b[0m\u001b[0m\n\u001b[0;32m      7\u001b[0m \u001b[0mclf2\u001b[0m \u001b[1;33m=\u001b[0m \u001b[0mtrain_model\u001b[0m\u001b[1;33m(\u001b[0m\u001b[0mclf2\u001b[0m\u001b[1;33m,\u001b[0m \u001b[0mX_train\u001b[0m\u001b[1;33m,\u001b[0m \u001b[0my_train\u001b[0m\u001b[1;33m)\u001b[0m\u001b[1;33m\u001b[0m\u001b[1;33m\u001b[0m\u001b[0m\n",
      "\u001b[1;32m~\\anaconda3\\lib\\site-packages\\sklearn\\utils\\validation.py\u001b[0m in \u001b[0;36minner_f\u001b[1;34m(*args, **kwargs)\u001b[0m\n\u001b[0;32m     71\u001b[0m                           FutureWarning)\n\u001b[0;32m     72\u001b[0m         \u001b[0mkwargs\u001b[0m\u001b[1;33m.\u001b[0m\u001b[0mupdate\u001b[0m\u001b[1;33m(\u001b[0m\u001b[1;33m{\u001b[0m\u001b[0mk\u001b[0m\u001b[1;33m:\u001b[0m \u001b[0marg\u001b[0m \u001b[1;32mfor\u001b[0m \u001b[0mk\u001b[0m\u001b[1;33m,\u001b[0m \u001b[0marg\u001b[0m \u001b[1;32min\u001b[0m \u001b[0mzip\u001b[0m\u001b[1;33m(\u001b[0m\u001b[0msig\u001b[0m\u001b[1;33m.\u001b[0m\u001b[0mparameters\u001b[0m\u001b[1;33m,\u001b[0m \u001b[0margs\u001b[0m\u001b[1;33m)\u001b[0m\u001b[1;33m}\u001b[0m\u001b[1;33m)\u001b[0m\u001b[1;33m\u001b[0m\u001b[1;33m\u001b[0m\u001b[0m\n\u001b[1;32m---> 73\u001b[1;33m         \u001b[1;32mreturn\u001b[0m \u001b[0mf\u001b[0m\u001b[1;33m(\u001b[0m\u001b[1;33m**\u001b[0m\u001b[0mkwargs\u001b[0m\u001b[1;33m)\u001b[0m\u001b[1;33m\u001b[0m\u001b[1;33m\u001b[0m\u001b[0m\n\u001b[0m\u001b[0;32m     74\u001b[0m     \u001b[1;32mreturn\u001b[0m \u001b[0minner_f\u001b[0m\u001b[1;33m\u001b[0m\u001b[1;33m\u001b[0m\u001b[0m\n\u001b[0;32m     75\u001b[0m \u001b[1;33m\u001b[0m\u001b[0m\n",
      "\u001b[1;31mTypeError\u001b[0m: __init__() got an unexpected keyword argument 'alpha '"
     ]
    }
   ],
   "source": [
    "clf2 = XGBClassifier(scale_pos_weight= 90)\n",
    "params = {'eta ' : [0.01, 0.1], 'gamma ' : [1, 10], 'max_depth ' : [12,16], 'n_estimators' : [1000, 800, 1200], 'alpha ' : ['0.8']}\n",
    "best_params = grid_search(clf2, params, X_train_bag, y_train)\n",
    "print(\"Best Params are:\", best_params)\n",
    "clf2 = XGBClassifier(**best_params)\n",
    "\n",
    "clf2 = train_model(clf2, X_train, y_train)\n",
    "\n",
    "print(\"Training Scores\")\n",
    "get_scores(clf2, X_train, y_train)\n",
    "\n",
    "print(\"Testing Scores\")\n",
    "get_scores(clf2, X_test, y_test)"
   ]
  },
  {
   "cell_type": "code",
   "execution_count": 64,
   "metadata": {},
   "outputs": [
    {
     "name": "stdout",
     "output_type": "stream",
     "text": [
      "[19:16:23] WARNING: C:\\Users\\Administrator\\workspace\\xgboost-win64_release_1.2.0\\src\\learner.cc:516: \n",
      "Parameters: { alpha , eta , gamma , max_depth  } might not be used.\n",
      "\n",
      "  This may not be accurate due to some parameters are only used in language bindings but\n",
      "  passed down to XGBoost core.  Or some parameters are not used but slip through this\n",
      "  verification. Please open an issue if you find above cases.\n",
      "\n",
      "\n",
      "Training Scores\n",
      "              precision    recall  f1-score   support\n",
      "\n",
      "           0       0.97      1.00      0.99    226148\n",
      "           1       1.00      0.67      0.80     19860\n",
      "\n",
      "    accuracy                           0.97    246008\n",
      "   macro avg       0.98      0.83      0.89    246008\n",
      "weighted avg       0.97      0.97      0.97    246008\n",
      "\n",
      "Testing Scores\n",
      "              precision    recall  f1-score   support\n",
      "\n",
      "           0       0.92      0.99      0.96     56538\n",
      "           1       0.36      0.06      0.10      4965\n",
      "\n",
      "    accuracy                           0.92     61503\n",
      "   macro avg       0.64      0.52      0.53     61503\n",
      "weighted avg       0.88      0.92      0.89     61503\n",
      "\n"
     ]
    }
   ],
   "source": [
    "clf2 = XGBClassifier(**best_params)\n",
    "\n",
    "clf2 = train_model(clf2, X_train, y_train)\n",
    "\n",
    "print(\"Training Scores\")\n",
    "get_scores(clf2, X_train, y_train)\n",
    "\n",
    "print(\"Testing Scores\")\n",
    "get_scores(clf2, X_test, y_test)\n",
    "\n"
   ]
  },
  {
   "cell_type": "code",
   "execution_count": 83,
   "metadata": {},
   "outputs": [],
   "source": [
    "def get_combined_score(clf1, clf2, wt, data):\n",
    "    y_pred_xgb = clf2.predict_proba(data)\n",
    "    y_pred_rf = clf1.predict_proba(data)\n",
    "    yout = y_pred_xgb*wt + y_pred_rf*(1 - wt)\n",
    "    out = yout[:,1] \n",
    "    return out\n",
    "    "
   ]
  },
  {
   "cell_type": "code",
   "execution_count": 78,
   "metadata": {},
   "outputs": [],
   "source": [
    "y_pred_xgb = clf2.predict_proba(X_test)\n",
    "y_pred_rf = clf1.predict_proba(X_test)"
   ]
  },
  {
   "cell_type": "code",
   "execution_count": 79,
   "metadata": {},
   "outputs": [],
   "source": [
    "yout = y_pred_xgb*0.15 + y_pred_rf*0.85"
   ]
  },
  {
   "cell_type": "code",
   "execution_count": 80,
   "metadata": {},
   "outputs": [],
   "source": [
    "out = yout[:,1] "
   ]
  },
  {
   "cell_type": "code",
   "execution_count": 81,
   "metadata": {},
   "outputs": [],
   "source": [
    "pred = [1 if i > 0.5 else 0 for i in out ]"
   ]
  },
  {
   "cell_type": "code",
   "execution_count": 82,
   "metadata": {},
   "outputs": [
    {
     "name": "stdout",
     "output_type": "stream",
     "text": [
      "              precision    recall  f1-score   support\n",
      "\n",
      "           0       0.94      0.94      0.94     56538\n",
      "           1       0.28      0.28      0.28      4965\n",
      "\n",
      "    accuracy                           0.88     61503\n",
      "   macro avg       0.61      0.61      0.61     61503\n",
      "weighted avg       0.88      0.88      0.88     61503\n",
      "\n"
     ]
    }
   ],
   "source": [
    "print(classification_report(y_test, pred))"
   ]
  },
  {
   "cell_type": "code",
   "execution_count": 84,
   "metadata": {},
   "outputs": [],
   "source": [
    "sub =  get_combined_score(clf1, clf2, 0.15, data_test[X_test.columns])"
   ]
  },
  {
   "cell_type": "code",
   "execution_count": 86,
   "metadata": {},
   "outputs": [],
   "source": [
    "pd.DataFrame(sub).to_csv('sub_ensemble.csv')"
   ]
  },
  {
   "cell_type": "code",
   "execution_count": 88,
   "metadata": {},
   "outputs": [],
   "source": [
    "from imblearn.over_sampling import SMOTE\n",
    "oversample = SMOTE()\n",
    "X, y = oversample.fit_resample(X_train, y_train)"
   ]
  },
  {
   "cell_type": "code",
   "execution_count": 91,
   "metadata": {},
   "outputs": [
    {
     "name": "stdout",
     "output_type": "stream",
     "text": [
      "Training Scores\n",
      "              precision    recall  f1-score   support\n",
      "\n",
      "           0       0.93      0.98      0.95    226148\n",
      "           1       0.31      0.11      0.16     19860\n",
      "\n",
      "    accuracy                           0.91    246008\n",
      "   macro avg       0.62      0.54      0.56    246008\n",
      "weighted avg       0.88      0.91      0.89    246008\n",
      "\n",
      "Testing Scores\n",
      "              precision    recall  f1-score   support\n",
      "\n",
      "           0       0.92      0.97      0.95     56538\n",
      "           1       0.20      0.07      0.11      4965\n",
      "\n",
      "    accuracy                           0.90     61503\n",
      "   macro avg       0.56      0.52      0.53     61503\n",
      "weighted avg       0.86      0.90      0.88     61503\n",
      "\n"
     ]
    }
   ],
   "source": [
    "best_params = {'class_weight': 'balanced', 'criterion': 'gini', 'max_depth': 20, 'min_samples_split': 100, 'n_estimators': 100}\n",
    "clf1 = RandomForestClassifier(**best_params)\n",
    "\n",
    "clf1 = train_model(clf1,X, y)\n",
    "\n",
    "print(\"Training Scores\")\n",
    "get_scores(clf1, X_train, y_train)\n",
    "\n",
    "print(\"Testing Scores\")\n",
    "get_scores(clf1, X_test, y_test)"
   ]
  }
 ],
 "metadata": {
  "kernelspec": {
   "display_name": "Python 3",
   "language": "python",
   "name": "python3"
  },
  "language_info": {
   "codemirror_mode": {
    "name": "ipython",
    "version": 3
   },
   "file_extension": ".py",
   "mimetype": "text/x-python",
   "name": "python",
   "nbconvert_exporter": "python",
   "pygments_lexer": "ipython3",
   "version": "3.8.3"
  }
 },
 "nbformat": 4,
 "nbformat_minor": 4
}
