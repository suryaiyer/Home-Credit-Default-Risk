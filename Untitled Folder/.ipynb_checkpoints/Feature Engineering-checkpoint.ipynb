{
 "cells": [
  {
   "cell_type": "markdown",
   "metadata": {},
   "source": [
    "### Imports"
   ]
  },
  {
   "cell_type": "code",
   "execution_count": 19,
   "metadata": {},
   "outputs": [],
   "source": [
    "import pandas as pd\n",
    "import matplotlib.pyplot as plt\n",
    "from sklearn.preprocessing import LabelEncoder\n",
    "import numpy as np\n",
    "import seaborn as sns"
   ]
  },
  {
   "cell_type": "code",
   "execution_count": 5,
   "metadata": {},
   "outputs": [],
   "source": [
    "pd.set_option('display.max_columns', None)\n",
    "pd.set_option(\"max_rows\", None)"
   ]
  },
  {
   "cell_type": "code",
   "execution_count": 6,
   "metadata": {},
   "outputs": [],
   "source": [
    "data_path = '../Data/'"
   ]
  },
  {
   "cell_type": "markdown",
   "metadata": {},
   "source": [
    "### train/Test Files"
   ]
  },
  {
   "cell_type": "code",
   "execution_count": 7,
   "metadata": {},
   "outputs": [],
   "source": [
    "application_train = pd.read_csv(data_path + 'Raw/application_train.csv')\n",
    "application_test = pd.read_csv(data_path + 'Raw/application_test.csv')"
   ]
  },
  {
   "cell_type": "code",
   "execution_count": 8,
   "metadata": {},
   "outputs": [
    {
     "name": "stdout",
     "output_type": "stream",
     "text": [
      "<class 'pandas.core.frame.DataFrame'>\n",
      "RangeIndex: 307511 entries, 0 to 307510\n",
      "Data columns (total 122 columns):\n",
      " #   Column                        Non-Null Count   Dtype  \n",
      "---  ------                        --------------   -----  \n",
      " 0   SK_ID_CURR                    307511 non-null  int64  \n",
      " 1   TARGET                        307511 non-null  int64  \n",
      " 2   NAME_CONTRACT_TYPE            307511 non-null  object \n",
      " 3   CODE_GENDER                   307511 non-null  object \n",
      " 4   FLAG_OWN_CAR                  307511 non-null  object \n",
      " 5   FLAG_OWN_REALTY               307511 non-null  object \n",
      " 6   CNT_CHILDREN                  307511 non-null  int64  \n",
      " 7   AMT_INCOME_TOTAL              307511 non-null  float64\n",
      " 8   AMT_CREDIT                    307511 non-null  float64\n",
      " 9   AMT_ANNUITY                   307499 non-null  float64\n",
      " 10  AMT_GOODS_PRICE               307233 non-null  float64\n",
      " 11  NAME_TYPE_SUITE               306219 non-null  object \n",
      " 12  NAME_INCOME_TYPE              307511 non-null  object \n",
      " 13  NAME_EDUCATION_TYPE           307511 non-null  object \n",
      " 14  NAME_FAMILY_STATUS            307511 non-null  object \n",
      " 15  NAME_HOUSING_TYPE             307511 non-null  object \n",
      " 16  REGION_POPULATION_RELATIVE    307511 non-null  float64\n",
      " 17  DAYS_BIRTH                    307511 non-null  int64  \n",
      " 18  DAYS_EMPLOYED                 307511 non-null  int64  \n",
      " 19  DAYS_REGISTRATION             307511 non-null  float64\n",
      " 20  DAYS_ID_PUBLISH               307511 non-null  int64  \n",
      " 21  OWN_CAR_AGE                   104582 non-null  float64\n",
      " 22  FLAG_MOBIL                    307511 non-null  int64  \n",
      " 23  FLAG_EMP_PHONE                307511 non-null  int64  \n",
      " 24  FLAG_WORK_PHONE               307511 non-null  int64  \n",
      " 25  FLAG_CONT_MOBILE              307511 non-null  int64  \n",
      " 26  FLAG_PHONE                    307511 non-null  int64  \n",
      " 27  FLAG_EMAIL                    307511 non-null  int64  \n",
      " 28  OCCUPATION_TYPE               211120 non-null  object \n",
      " 29  CNT_FAM_MEMBERS               307509 non-null  float64\n",
      " 30  REGION_RATING_CLIENT          307511 non-null  int64  \n",
      " 31  REGION_RATING_CLIENT_W_CITY   307511 non-null  int64  \n",
      " 32  WEEKDAY_APPR_PROCESS_START    307511 non-null  object \n",
      " 33  HOUR_APPR_PROCESS_START       307511 non-null  int64  \n",
      " 34  REG_REGION_NOT_LIVE_REGION    307511 non-null  int64  \n",
      " 35  REG_REGION_NOT_WORK_REGION    307511 non-null  int64  \n",
      " 36  LIVE_REGION_NOT_WORK_REGION   307511 non-null  int64  \n",
      " 37  REG_CITY_NOT_LIVE_CITY        307511 non-null  int64  \n",
      " 38  REG_CITY_NOT_WORK_CITY        307511 non-null  int64  \n",
      " 39  LIVE_CITY_NOT_WORK_CITY       307511 non-null  int64  \n",
      " 40  ORGANIZATION_TYPE             307511 non-null  object \n",
      " 41  EXT_SOURCE_1                  134133 non-null  float64\n",
      " 42  EXT_SOURCE_2                  306851 non-null  float64\n",
      " 43  EXT_SOURCE_3                  246546 non-null  float64\n",
      " 44  APARTMENTS_AVG                151450 non-null  float64\n",
      " 45  BASEMENTAREA_AVG              127568 non-null  float64\n",
      " 46  YEARS_BEGINEXPLUATATION_AVG   157504 non-null  float64\n",
      " 47  YEARS_BUILD_AVG               103023 non-null  float64\n",
      " 48  COMMONAREA_AVG                92646 non-null   float64\n",
      " 49  ELEVATORS_AVG                 143620 non-null  float64\n",
      " 50  ENTRANCES_AVG                 152683 non-null  float64\n",
      " 51  FLOORSMAX_AVG                 154491 non-null  float64\n",
      " 52  FLOORSMIN_AVG                 98869 non-null   float64\n",
      " 53  LANDAREA_AVG                  124921 non-null  float64\n",
      " 54  LIVINGAPARTMENTS_AVG          97312 non-null   float64\n",
      " 55  LIVINGAREA_AVG                153161 non-null  float64\n",
      " 56  NONLIVINGAPARTMENTS_AVG       93997 non-null   float64\n",
      " 57  NONLIVINGAREA_AVG             137829 non-null  float64\n",
      " 58  APARTMENTS_MODE               151450 non-null  float64\n",
      " 59  BASEMENTAREA_MODE             127568 non-null  float64\n",
      " 60  YEARS_BEGINEXPLUATATION_MODE  157504 non-null  float64\n",
      " 61  YEARS_BUILD_MODE              103023 non-null  float64\n",
      " 62  COMMONAREA_MODE               92646 non-null   float64\n",
      " 63  ELEVATORS_MODE                143620 non-null  float64\n",
      " 64  ENTRANCES_MODE                152683 non-null  float64\n",
      " 65  FLOORSMAX_MODE                154491 non-null  float64\n",
      " 66  FLOORSMIN_MODE                98869 non-null   float64\n",
      " 67  LANDAREA_MODE                 124921 non-null  float64\n",
      " 68  LIVINGAPARTMENTS_MODE         97312 non-null   float64\n",
      " 69  LIVINGAREA_MODE               153161 non-null  float64\n",
      " 70  NONLIVINGAPARTMENTS_MODE      93997 non-null   float64\n",
      " 71  NONLIVINGAREA_MODE            137829 non-null  float64\n",
      " 72  APARTMENTS_MEDI               151450 non-null  float64\n",
      " 73  BASEMENTAREA_MEDI             127568 non-null  float64\n",
      " 74  YEARS_BEGINEXPLUATATION_MEDI  157504 non-null  float64\n",
      " 75  YEARS_BUILD_MEDI              103023 non-null  float64\n",
      " 76  COMMONAREA_MEDI               92646 non-null   float64\n",
      " 77  ELEVATORS_MEDI                143620 non-null  float64\n",
      " 78  ENTRANCES_MEDI                152683 non-null  float64\n",
      " 79  FLOORSMAX_MEDI                154491 non-null  float64\n",
      " 80  FLOORSMIN_MEDI                98869 non-null   float64\n",
      " 81  LANDAREA_MEDI                 124921 non-null  float64\n",
      " 82  LIVINGAPARTMENTS_MEDI         97312 non-null   float64\n",
      " 83  LIVINGAREA_MEDI               153161 non-null  float64\n",
      " 84  NONLIVINGAPARTMENTS_MEDI      93997 non-null   float64\n",
      " 85  NONLIVINGAREA_MEDI            137829 non-null  float64\n",
      " 86  FONDKAPREMONT_MODE            97216 non-null   object \n",
      " 87  HOUSETYPE_MODE                153214 non-null  object \n",
      " 88  TOTALAREA_MODE                159080 non-null  float64\n",
      " 89  WALLSMATERIAL_MODE            151170 non-null  object \n",
      " 90  EMERGENCYSTATE_MODE           161756 non-null  object \n",
      " 91  OBS_30_CNT_SOCIAL_CIRCLE      306490 non-null  float64\n",
      " 92  DEF_30_CNT_SOCIAL_CIRCLE      306490 non-null  float64\n",
      " 93  OBS_60_CNT_SOCIAL_CIRCLE      306490 non-null  float64\n",
      " 94  DEF_60_CNT_SOCIAL_CIRCLE      306490 non-null  float64\n",
      " 95  DAYS_LAST_PHONE_CHANGE        307510 non-null  float64\n",
      " 96  FLAG_DOCUMENT_2               307511 non-null  int64  \n",
      " 97  FLAG_DOCUMENT_3               307511 non-null  int64  \n",
      " 98  FLAG_DOCUMENT_4               307511 non-null  int64  \n",
      " 99  FLAG_DOCUMENT_5               307511 non-null  int64  \n",
      " 100 FLAG_DOCUMENT_6               307511 non-null  int64  \n",
      " 101 FLAG_DOCUMENT_7               307511 non-null  int64  \n",
      " 102 FLAG_DOCUMENT_8               307511 non-null  int64  \n",
      " 103 FLAG_DOCUMENT_9               307511 non-null  int64  \n",
      " 104 FLAG_DOCUMENT_10              307511 non-null  int64  \n",
      " 105 FLAG_DOCUMENT_11              307511 non-null  int64  \n",
      " 106 FLAG_DOCUMENT_12              307511 non-null  int64  \n",
      " 107 FLAG_DOCUMENT_13              307511 non-null  int64  \n",
      " 108 FLAG_DOCUMENT_14              307511 non-null  int64  \n",
      " 109 FLAG_DOCUMENT_15              307511 non-null  int64  \n",
      " 110 FLAG_DOCUMENT_16              307511 non-null  int64  \n",
      " 111 FLAG_DOCUMENT_17              307511 non-null  int64  \n",
      " 112 FLAG_DOCUMENT_18              307511 non-null  int64  \n",
      " 113 FLAG_DOCUMENT_19              307511 non-null  int64  \n",
      " 114 FLAG_DOCUMENT_20              307511 non-null  int64  \n",
      " 115 FLAG_DOCUMENT_21              307511 non-null  int64  \n",
      " 116 AMT_REQ_CREDIT_BUREAU_HOUR    265992 non-null  float64\n",
      " 117 AMT_REQ_CREDIT_BUREAU_DAY     265992 non-null  float64\n",
      " 118 AMT_REQ_CREDIT_BUREAU_WEEK    265992 non-null  float64\n",
      " 119 AMT_REQ_CREDIT_BUREAU_MON     265992 non-null  float64\n",
      " 120 AMT_REQ_CREDIT_BUREAU_QRT     265992 non-null  float64\n",
      " 121 AMT_REQ_CREDIT_BUREAU_YEAR    265992 non-null  float64\n",
      "dtypes: float64(65), int64(41), object(16)\n",
      "memory usage: 286.2+ MB\n"
     ]
    }
   ],
   "source": [
    "application_train.info(max_cols = 123)"
   ]
  },
  {
   "cell_type": "code",
   "execution_count": 9,
   "metadata": {},
   "outputs": [],
   "source": [
    "binary_categorical_columns = ['FLAG_MOBIL', 'FLAG_EMP_PHONE', 'FLAG_WORK_PHONE', 'FLAG_CONT_MOBILE', 'FLAG_PHONE',\\\n",
    "                             'FLAG_EMAIL', 'FLAG_OWN_CAR', 'FLAG_OWN_REALTY', 'FLAG_DOCUMENT_2', 'FLAG_DOCUMENT_3',\\\n",
    "                             'FLAG_DOCUMENT_4', 'FLAG_DOCUMENT_5', 'FLAG_DOCUMENT_6', 'FLAG_DOCUMENT_7', 'FLAG_DOCUMENT_8',\\\n",
    "                             'FLAG_DOCUMENT_9', 'FLAG_DOCUMENT_10', 'FLAG_DOCUMENT_11', 'FLAG_DOCUMENT_12', 'FLAG_DOCUMENT_13',\\\n",
    "                             'FLAG_DOCUMENT_14', 'FLAG_DOCUMENT_15', 'FLAG_DOCUMENT_16', 'FLAG_DOCUMENT_17', 'FLAG_DOCUMENT_18',\\\n",
    "                             'FLAG_DOCUMENT_19', 'FLAG_DOCUMENT_20', 'FLAG_DOCUMENT_21']\n",
    "\n",
    "categorical_columns = ['NAME_TYPE_SUITE', 'OCCUPATION_TYPE', 'ORGANIZATION_TYPE', 'CODE_GENDER', 'NAME_INCOME_TYPE',\\\n",
    "                      'NAME_EDUCATION_TYPE', 'NAME_FAMILY_STATUS', 'NAME_HOUSING_TYPE', 'REGION_RATING_CLIENT']\n",
    "\n",
    "continuos_columns = ['AMT_INCOME_TOTAL', 'AMT_CREDIT', 'AMT_ANNUITY', 'AMT_GOODS_PRICE', 'REGION_POPULATION_RELATIVE',\\\n",
    "                    'DAYS_BIRTH', 'DAYS_EMPLOYED', 'DAYS_REGISTRATION', 'DAYS_ID_PUBLISH', 'OWN_CAR_AGE'\\\n",
    "                    'CNT_FAM_MEMBERS', 'EXT_SOURCE_1', 'EXT_SOURCE_2', 'EXT_SOURCE_3', 'APARTMENTS_AVG',\\\n",
    "                    'OBS_30_CNT_SOCIAL_CIRCLE', 'DEF_30_CNT_SOCIAL_CIRCLE', 'OBS_60_CNT_SOCIAL_CIRCLE', \\\n",
    "                     'DEF_60_CNT_SOCIAL_CIRCLE', 'AMT_REQ_CREDIT_BUREAU_WEEK', 'AMT_REQ_CREDIT_BUREAU_MON']"
   ]
  },
  {
   "cell_type": "code",
   "execution_count": 21,
   "metadata": {},
   "outputs": [
    {
     "ename": "AttributeError",
     "evalue": "module 'seaborn' has no attribute 'hist'",
     "output_type": "error",
     "traceback": [
      "\u001b[1;31m---------------------------------------------------------------------------\u001b[0m",
      "\u001b[1;31mAttributeError\u001b[0m                            Traceback (most recent call last)",
      "\u001b[1;32m<ipython-input-21-5f848a6af262>\u001b[0m in \u001b[0;36m<module>\u001b[1;34m\u001b[0m\n\u001b[0;32m      1\u001b[0m \u001b[1;32mfor\u001b[0m \u001b[0mcol\u001b[0m \u001b[1;32min\u001b[0m \u001b[0mbinary_categorical_columns\u001b[0m\u001b[1;33m:\u001b[0m\u001b[1;33m\u001b[0m\u001b[1;33m\u001b[0m\u001b[0m\n\u001b[1;32m----> 2\u001b[1;33m     \u001b[0msns\u001b[0m\u001b[1;33m.\u001b[0m\u001b[0mhist\u001b[0m\u001b[1;33m(\u001b[0m\u001b[0mx\u001b[0m \u001b[1;33m=\u001b[0m \u001b[0mcol\u001b[0m\u001b[1;33m,\u001b[0m \u001b[0mdata\u001b[0m \u001b[1;33m=\u001b[0m \u001b[0mapplication_train\u001b[0m\u001b[1;33m,\u001b[0m \u001b[0mhue\u001b[0m \u001b[1;33m=\u001b[0m \u001b[1;34m'TARGET'\u001b[0m\u001b[1;33m)\u001b[0m\u001b[1;33m\u001b[0m\u001b[1;33m\u001b[0m\u001b[0m\n\u001b[0m\u001b[0;32m      3\u001b[0m     \u001b[0mplt\u001b[0m\u001b[1;33m.\u001b[0m\u001b[0mshow\u001b[0m\u001b[1;33m(\u001b[0m\u001b[1;33m)\u001b[0m\u001b[1;33m\u001b[0m\u001b[1;33m\u001b[0m\u001b[0m\n",
      "\u001b[1;31mAttributeError\u001b[0m: module 'seaborn' has no attribute 'hist'"
     ]
    }
   ],
   "source": [
    "for col in binary_categorical_columns:\n",
    "    sns.hist(x = col, data = application_train, hue = 'TARGET')\n",
    "    plt.show()"
   ]
  },
  {
   "cell_type": "code",
   "execution_count": 20,
   "metadata": {},
   "outputs": [
    {
     "data": {
      "text/plain": [
       "'0.10.1'"
      ]
     },
     "execution_count": 20,
     "metadata": {},
     "output_type": "execute_result"
    }
   ],
   "source": [
    "sns.__version__\n"
   ]
  }
 ],
 "metadata": {
  "kernelspec": {
   "display_name": "Python 3",
   "language": "python",
   "name": "python3"
  },
  "language_info": {
   "codemirror_mode": {
    "name": "ipython",
    "version": 3
   },
   "file_extension": ".py",
   "mimetype": "text/x-python",
   "name": "python",
   "nbconvert_exporter": "python",
   "pygments_lexer": "ipython3",
   "version": "3.8.3"
  }
 },
 "nbformat": 4,
 "nbformat_minor": 4
}
